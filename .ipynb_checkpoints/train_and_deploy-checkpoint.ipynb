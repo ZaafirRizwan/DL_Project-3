{
 "cells": [
  {
   "cell_type": "markdown",
   "metadata": {},
   "source": [
    "# Title: Image Classification using Sagemaker \n",
    "\n",
    "This notebook lists all the steps that you need to complete the complete this project. You will need to complete all the TODOs in this notebook as well as in the README and the two python scripts included with the starter code.\n",
    "\n",
    "\n",
    "**TODO**: Give a helpful introduction to what this notebook is for. Remember that comments, explanations and good documentation make your project informative and professional.\n",
    "\n",
    "**Note:** This notebook has a bunch of code and markdown cells with TODOs that you have to complete. These are meant to be helpful guidelines for you to finish your project while meeting the requirements in the project rubrics. Feel free to change the order of these the TODO's and use more than one TODO code cell to do all your tasks."
   ]
  },
  {
   "cell_type": "markdown",
   "metadata": {},
   "source": [
    "**Introduction: I will be performing Image Classification on dog breed Dataset. Here, I will be using Pretrained Image Classifier for feature extraction and then appending few fully connected layers at the end for classifying the dog breeds. Code of image classification will be implemented on train.py.**  "
   ]
  },
  {
   "cell_type": "code",
   "execution_count": null,
   "metadata": {
    "scrolled": true,
    "tags": []
   },
   "outputs": [],
   "source": [
    "# TODO: Install any packages that you might need\n",
    "# For instance, you will need the smdebug package\n",
    "!pip install smdebug\n",
    "!pip install requests"
   ]
  },
  {
   "cell_type": "code",
   "execution_count": null,
   "metadata": {
    "tags": []
   },
   "outputs": [],
   "source": [
    "# TODO: Import any packages that you might need\n",
    "# For instance you will need Boto3 and Sagemaker\n",
    "import pandas\n",
    "import requests\n",
    "import sagemaker\n",
    "import boto3\n",
    "from sagemaker import get_execution_role\n",
    "import os\n",
    "from sagemaker.pytorch import PyTorch\n",
    "from sagemaker import get_execution_role\n",
    "from sagemaker.debugger import (\n",
    "    Rule,\n",
    "    DebuggerHookConfig,\n",
    "    rule_configs,\n",
    ")\n",
    "from sagemaker.debugger import Rule, ProfilerRule, rule_configs"
   ]
  },
  {
   "cell_type": "markdown",
   "metadata": {},
   "source": [
    "## Dataset\n",
    "TODO: Explain what dataset you are using for this project. Maybe even give a small overview of the classes, class distributions etc that can help anyone not familiar with the dataset get a better understand of it."
   ]
  },
  {
   "cell_type": "code",
   "execution_count": null,
   "metadata": {
    "tags": []
   },
   "outputs": [],
   "source": [
    "session = boto3.Session()\n",
    "\n",
    "\n",
    "bucket= \"myimageclassificationbucket\"\n",
    "print(\"Default Bucket: {}\".format(bucket))\n",
    "\n",
    "region = session.region_name\n",
    "print(\"AWS Region: {}\".format(region))\n",
    "\n",
    "role = get_execution_role()\n",
    "print(\"RoleArn: {}\".format(role))"
   ]
  },
  {
   "cell_type": "code",
   "execution_count": 4,
   "metadata": {
    "tags": []
   },
   "outputs": [
    {
     "name": "stdout",
     "output_type": "stream",
     "text": [
      "upload: valid/109.Norwegian_elkhound/Norwegian_elkhound_07159.jpg to s3://myimageclassificationbucket/valid/109.Norwegian_elkhound/Norwegian_elkhound_07159.jpg\n",
      "upload: valid/109.Norwegian_elkhound/Norwegian_elkhound_07164.jpg to s3://myimageclassificationbucket/valid/109.Norwegian_elkhound/Norwegian_elkhound_07164.jpg\n",
      "upload: valid/109.Norwegian_elkhound/Norwegian_elkhound_07178.jpg to s3://myimageclassificationbucket/valid/109.Norwegian_elkhound/Norwegian_elkhound_07178.jpg\n",
      "upload: valid/107.Norfolk_terrier/Norfolk_terrier_07087.jpg to s3://myimageclassificationbucket/valid/107.Norfolk_terrier/Norfolk_terrier_07087.jpg\n",
      "upload: valid/109.Norwegian_elkhound/Norwegian_elkhound_07131.jpg to s3://myimageclassificationbucket/valid/109.Norwegian_elkhound/Norwegian_elkhound_07131.jpg\n",
      "upload: valid/110.Norwegian_lundehund/Norwegian_lundehund_07203.jpg to s3://myimageclassificationbucket/valid/110.Norwegian_lundehund/Norwegian_lundehund_07203.jpg\n",
      "upload: valid/107.Norfolk_terrier/Norfolk_terrier_07083.jpg to s3://myimageclassificationbucket/valid/107.Norfolk_terrier/Norfolk_terrier_07083.jpg\n",
      "upload: valid/110.Norwegian_lundehund/Norwegian_lundehund_07205.jpg to s3://myimageclassificationbucket/valid/110.Norwegian_lundehund/Norwegian_lundehund_07205.jpg\n",
      "upload: valid/110.Norwegian_lundehund/Norwegian_lundehund_07201.jpg to s3://myimageclassificationbucket/valid/110.Norwegian_lundehund/Norwegian_lundehund_07201.jpg\n",
      "upload: valid/108.Norwegian_buhund/Norwegian_buhund_07119.jpg to s3://myimageclassificationbucket/valid/108.Norwegian_buhund/Norwegian_buhund_07119.jpg\n",
      "upload: valid/109.Norwegian_elkhound/Norwegian_elkhound_07134.jpg to s3://myimageclassificationbucket/valid/109.Norwegian_elkhound/Norwegian_elkhound_07134.jpg\n",
      "upload: valid/110.Norwegian_lundehund/Norwegian_lundehund_07194.jpg to s3://myimageclassificationbucket/valid/110.Norwegian_lundehund/Norwegian_lundehund_07194.jpg\n",
      "upload: valid/111.Norwich_terrier/Norwich_terrier_07248.jpg to s3://myimageclassificationbucket/valid/111.Norwich_terrier/Norwich_terrier_07248.jpg\n",
      "upload: valid/109.Norwegian_elkhound/Norwegian_elkhound_07128.jpg to s3://myimageclassificationbucket/valid/109.Norwegian_elkhound/Norwegian_elkhound_07128.jpg\n",
      "upload: valid/108.Norwegian_buhund/Norwegian_buhund_07102.jpg to s3://myimageclassificationbucket/valid/108.Norwegian_buhund/Norwegian_buhund_07102.jpg\n",
      "upload: valid/111.Norwich_terrier/Norwich_terrier_07270.jpg to s3://myimageclassificationbucket/valid/111.Norwich_terrier/Norwich_terrier_07270.jpg\n",
      "upload: valid/111.Norwich_terrier/Norwich_terrier_07265.jpg to s3://myimageclassificationbucket/valid/111.Norwich_terrier/Norwich_terrier_07265.jpg\n",
      "upload: valid/112.Nova_scotia_duck_tolling_retriever/Nova_scotia_duck_tolling_retriever_07309.jpg to s3://myimageclassificationbucket/valid/112.Nova_scotia_duck_tolling_retriever/Nova_scotia_duck_tolling_retriever_07309.jpg\n",
      "upload: valid/112.Nova_scotia_duck_tolling_retriever/Nova_scotia_duck_tolling_retriever_07325.jpg to s3://myimageclassificationbucket/valid/112.Nova_scotia_duck_tolling_retriever/Nova_scotia_duck_tolling_retriever_07325.jpg\n",
      "upload: valid/112.Nova_scotia_duck_tolling_retriever/Nova_scotia_duck_tolling_retriever_07333.jpg to s3://myimageclassificationbucket/valid/112.Nova_scotia_duck_tolling_retriever/Nova_scotia_duck_tolling_retriever_07333.jpg\n",
      "upload: valid/111.Norwich_terrier/Norwich_terrier_07271.jpg to s3://myimageclassificationbucket/valid/111.Norwich_terrier/Norwich_terrier_07271.jpg\n",
      "upload: valid/111.Norwich_terrier/Norwich_terrier_07238.jpg to s3://myimageclassificationbucket/valid/111.Norwich_terrier/Norwich_terrier_07238.jpg\n",
      "upload: valid/112.Nova_scotia_duck_tolling_retriever/Nova_scotia_duck_tolling_retriever_07330.jpg to s3://myimageclassificationbucket/valid/112.Nova_scotia_duck_tolling_retriever/Nova_scotia_duck_tolling_retriever_07330.jpg\n",
      "upload: valid/111.Norwich_terrier/Norwich_terrier_07239.jpg to s3://myimageclassificationbucket/valid/111.Norwich_terrier/Norwich_terrier_07239.jpg\n",
      "upload: valid/112.Nova_scotia_duck_tolling_retriever/Nova_scotia_duck_tolling_retriever_07336.jpg to s3://myimageclassificationbucket/valid/112.Nova_scotia_duck_tolling_retriever/Nova_scotia_duck_tolling_retriever_07336.jpg\n",
      "upload: valid/113.Old_english_sheepdog/Old_english_sheepdog_07356.jpg to s3://myimageclassificationbucket/valid/113.Old_english_sheepdog/Old_english_sheepdog_07356.jpg\n",
      "upload: valid/112.Nova_scotia_duck_tolling_retriever/Nova_scotia_duck_tolling_retriever_07285.jpg to s3://myimageclassificationbucket/valid/112.Nova_scotia_duck_tolling_retriever/Nova_scotia_duck_tolling_retriever_07285.jpg\n",
      "upload: valid/113.Old_english_sheepdog/Old_english_sheepdog_07380.jpg to s3://myimageclassificationbucket/valid/113.Old_english_sheepdog/Old_english_sheepdog_07380.jpg\n",
      "upload: valid/113.Old_english_sheepdog/Old_english_sheepdog_07366.jpg to s3://myimageclassificationbucket/valid/113.Old_english_sheepdog/Old_english_sheepdog_07366.jpg\n",
      "upload: valid/113.Old_english_sheepdog/Old_english_sheepdog_07357.jpg to s3://myimageclassificationbucket/valid/113.Old_english_sheepdog/Old_english_sheepdog_07357.jpg\n",
      "upload: valid/114.Otterhound/Otterhound_07421.jpg to s3://myimageclassificationbucket/valid/114.Otterhound/Otterhound_07421.jpg\n",
      "upload: valid/115.Papillon/Papillon_07438.jpg to s3://myimageclassificationbucket/valid/115.Papillon/Papillon_07438.jpg\n",
      "upload: valid/114.Otterhound/Otterhound_07396.jpg to s3://myimageclassificationbucket/valid/114.Otterhound/Otterhound_07396.jpg\n",
      "upload: valid/114.Otterhound/Otterhound_07437.jpg to s3://myimageclassificationbucket/valid/114.Otterhound/Otterhound_07437.jpg\n",
      "upload: valid/113.Old_english_sheepdog/Old_english_sheepdog_07382.jpg to s3://myimageclassificationbucket/valid/113.Old_english_sheepdog/Old_english_sheepdog_07382.jpg\n",
      "upload: valid/115.Papillon/Papillon_07445.jpg to s3://myimageclassificationbucket/valid/115.Papillon/Papillon_07445.jpg\n",
      "upload: valid/114.Otterhound/Otterhound_07402.jpg to s3://myimageclassificationbucket/valid/114.Otterhound/Otterhound_07402.jpg\n",
      "upload: valid/115.Papillon/Papillon_07468.jpg to s3://myimageclassificationbucket/valid/115.Papillon/Papillon_07468.jpg\n",
      "upload: valid/114.Otterhound/Otterhound_07409.jpg to s3://myimageclassificationbucket/valid/114.Otterhound/Otterhound_07409.jpg\n",
      "upload: valid/115.Papillon/Papillon_07487.jpg to s3://myimageclassificationbucket/valid/115.Papillon/Papillon_07487.jpg\n",
      "upload: valid/115.Papillon/Papillon_07495.jpg to s3://myimageclassificationbucket/valid/115.Papillon/Papillon_07495.jpg\n",
      "upload: valid/115.Papillon/Papillon_07448.jpg to s3://myimageclassificationbucket/valid/115.Papillon/Papillon_07448.jpg\n",
      "upload: valid/115.Papillon/Papillon_07496.jpg to s3://myimageclassificationbucket/valid/115.Papillon/Papillon_07496.jpg\n",
      "upload: valid/117.Pekingese/Pekingese_07604.jpg to s3://myimageclassificationbucket/valid/117.Pekingese/Pekingese_07604.jpg\n",
      "upload: valid/116.Parson_russell_terrier/Parson_russell_terrier_07543.jpg to s3://myimageclassificationbucket/valid/116.Parson_russell_terrier/Parson_russell_terrier_07543.jpg\n",
      "upload: valid/115.Papillon/Papillon_07484.jpg to s3://myimageclassificationbucket/valid/115.Papillon/Papillon_07484.jpg\n",
      "upload: valid/116.Parson_russell_terrier/Parson_russell_terrier_07554.jpg to s3://myimageclassificationbucket/valid/116.Parson_russell_terrier/Parson_russell_terrier_07554.jpg\n",
      "upload: valid/116.Parson_russell_terrier/Parson_russell_terrier_07550.jpg to s3://myimageclassificationbucket/valid/116.Parson_russell_terrier/Parson_russell_terrier_07550.jpg\n",
      "upload: valid/117.Pekingese/Pekingese_07609.jpg to s3://myimageclassificationbucket/valid/117.Pekingese/Pekingese_07609.jpg\n",
      "upload: valid/117.Pekingese/Pekingese_07580.jpg to s3://myimageclassificationbucket/valid/117.Pekingese/Pekingese_07580.jpg\n",
      "upload: valid/117.Pekingese/Pekingese_07574.jpg to s3://myimageclassificationbucket/valid/117.Pekingese/Pekingese_07574.jpg\n",
      "upload: valid/117.Pekingese/Pekingese_07583.jpg to s3://myimageclassificationbucket/valid/117.Pekingese/Pekingese_07583.jpg\n",
      "upload: valid/117.Pekingese/Pekingese_07612.jpg to s3://myimageclassificationbucket/valid/117.Pekingese/Pekingese_07612.jpg\n",
      "upload: valid/116.Parson_russell_terrier/Parson_russell_terrier_07546.jpg to s3://myimageclassificationbucket/valid/116.Parson_russell_terrier/Parson_russell_terrier_07546.jpg\n",
      "upload: valid/118.Pembroke_welsh_corgi/Pembroke_welsh_corgi_07676.jpg to s3://myimageclassificationbucket/valid/118.Pembroke_welsh_corgi/Pembroke_welsh_corgi_07676.jpg\n",
      "upload: valid/118.Pembroke_welsh_corgi/Pembroke_welsh_corgi_07643.jpg to s3://myimageclassificationbucket/valid/118.Pembroke_welsh_corgi/Pembroke_welsh_corgi_07643.jpg\n",
      "upload: valid/118.Pembroke_welsh_corgi/Pembroke_welsh_corgi_07657.jpg to s3://myimageclassificationbucket/valid/118.Pembroke_welsh_corgi/Pembroke_welsh_corgi_07657.jpg\n",
      "upload: valid/118.Pembroke_welsh_corgi/Pembroke_welsh_corgi_07638.jpg to s3://myimageclassificationbucket/valid/118.Pembroke_welsh_corgi/Pembroke_welsh_corgi_07638.jpg\n",
      "upload: valid/118.Pembroke_welsh_corgi/Pembroke_welsh_corgi_07640.jpg to s3://myimageclassificationbucket/valid/118.Pembroke_welsh_corgi/Pembroke_welsh_corgi_07640.jpg\n",
      "upload: valid/119.Petit_basset_griffon_vendeen/Petit_basset_griffon_vendeen_07706.jpg to s3://myimageclassificationbucket/valid/119.Petit_basset_griffon_vendeen/Petit_basset_griffon_vendeen_07706.jpg\n",
      "upload: valid/118.Pembroke_welsh_corgi/Pembroke_welsh_corgi_07670.jpg to s3://myimageclassificationbucket/valid/118.Pembroke_welsh_corgi/Pembroke_welsh_corgi_07670.jpg\n",
      "upload: valid/119.Petit_basset_griffon_vendeen/Petit_basset_griffon_vendeen_07693.jpg to s3://myimageclassificationbucket/valid/119.Petit_basset_griffon_vendeen/Petit_basset_griffon_vendeen_07693.jpg\n",
      "upload: valid/120.Pharaoh_hound/Pharaoh_hound_07758.jpg to s3://myimageclassificationbucket/valid/120.Pharaoh_hound/Pharaoh_hound_07758.jpg\n",
      "upload: valid/121.Plott/Plott_07780.jpg to s3://myimageclassificationbucket/valid/121.Plott/Plott_07780.jpg\n",
      "upload: valid/120.Pharaoh_hound/Pharaoh_hound_07752.jpg to s3://myimageclassificationbucket/valid/120.Pharaoh_hound/Pharaoh_hound_07752.jpg\n",
      "upload: valid/120.Pharaoh_hound/Pharaoh_hound_07720.jpg to s3://myimageclassificationbucket/valid/120.Pharaoh_hound/Pharaoh_hound_07720.jpg\n",
      "upload: valid/120.Pharaoh_hound/Pharaoh_hound_07744.jpg to s3://myimageclassificationbucket/valid/120.Pharaoh_hound/Pharaoh_hound_07744.jpg\n",
      "upload: valid/119.Petit_basset_griffon_vendeen/Petit_basset_griffon_vendeen_07703.jpg to s3://myimageclassificationbucket/valid/119.Petit_basset_griffon_vendeen/Petit_basset_griffon_vendeen_07703.jpg\n",
      "upload: valid/121.Plott/Plott_07796.jpg to s3://myimageclassificationbucket/valid/121.Plott/Plott_07796.jpg\n",
      "upload: valid/119.Petit_basset_griffon_vendeen/Petit_basset_griffon_vendeen_07713.jpg to s3://myimageclassificationbucket/valid/119.Petit_basset_griffon_vendeen/Petit_basset_griffon_vendeen_07713.jpg\n",
      "upload: valid/121.Plott/Plott_07771.jpg to s3://myimageclassificationbucket/valid/121.Plott/Plott_07771.jpg\n",
      "upload: valid/122.Pointer/Pointer_07831.jpg to s3://myimageclassificationbucket/valid/122.Pointer/Pointer_07831.jpg\n",
      "upload: valid/120.Pharaoh_hound/Pharaoh_hound_07730.jpg to s3://myimageclassificationbucket/valid/120.Pharaoh_hound/Pharaoh_hound_07730.jpg\n",
      "upload: valid/121.Plott/Plott_07802.jpg to s3://myimageclassificationbucket/valid/121.Plott/Plott_07802.jpg\n",
      "upload: valid/122.Pointer/Pointer_07834.jpg to s3://myimageclassificationbucket/valid/122.Pointer/Pointer_07834.jpg\n",
      "upload: valid/122.Pointer/Pointer_07826.jpg to s3://myimageclassificationbucket/valid/122.Pointer/Pointer_07826.jpg\n",
      "upload: valid/123.Pomeranian/Pomeranian_07869.jpg to s3://myimageclassificationbucket/valid/123.Pomeranian/Pomeranian_07869.jpg\n",
      "upload: valid/122.Pointer/Pointer_07808.jpg to s3://myimageclassificationbucket/valid/122.Pointer/Pointer_07808.jpg\n",
      "upload: valid/123.Pomeranian/Pomeranian_07866.jpg to s3://myimageclassificationbucket/valid/123.Pomeranian/Pomeranian_07866.jpg\n",
      "upload: valid/123.Pomeranian/Pomeranian_07853.jpg to s3://myimageclassificationbucket/valid/123.Pomeranian/Pomeranian_07853.jpg\n",
      "upload: valid/123.Pomeranian/Pomeranian_07894.jpg to s3://myimageclassificationbucket/valid/123.Pomeranian/Pomeranian_07894.jpg\n",
      "upload: valid/124.Poodle/Poodle_07914.jpg to s3://myimageclassificationbucket/valid/124.Poodle/Poodle_07914.jpg\n",
      "upload: valid/123.Pomeranian/Pomeranian_07881.jpg to s3://myimageclassificationbucket/valid/123.Pomeranian/Pomeranian_07881.jpg\n",
      "upload: valid/123.Pomeranian/Pomeranian_07863.jpg to s3://myimageclassificationbucket/valid/123.Pomeranian/Pomeranian_07863.jpg\n",
      "upload: valid/124.Poodle/Poodle_07905.jpg to s3://myimageclassificationbucket/valid/124.Poodle/Poodle_07905.jpg\n",
      "upload: valid/124.Poodle/Poodle_07911.jpg to s3://myimageclassificationbucket/valid/124.Poodle/Poodle_07911.jpg\n",
      "upload: valid/125.Portuguese_water_dog/Portuguese_water_dog_07996.jpg to s3://myimageclassificationbucket/valid/125.Portuguese_water_dog/Portuguese_water_dog_07996.jpg\n",
      "upload: valid/126.Saint_bernard/Saint_bernard_08011.jpg to s3://myimageclassificationbucket/valid/126.Saint_bernard/Saint_bernard_08011.jpg\n",
      "upload: valid/124.Poodle/Poodle_07946.jpg to s3://myimageclassificationbucket/valid/124.Poodle/Poodle_07946.jpg\n",
      "upload: valid/124.Poodle/Poodle_07913.jpg to s3://myimageclassificationbucket/valid/124.Poodle/Poodle_07913.jpg\n",
      "upload: valid/124.Poodle/Poodle_07948.jpg to s3://myimageclassificationbucket/valid/124.Poodle/Poodle_07948.jpg\n",
      "upload: valid/126.Saint_bernard/Saint_bernard_08030.jpg to s3://myimageclassificationbucket/valid/126.Saint_bernard/Saint_bernard_08030.jpg\n",
      "upload: valid/125.Portuguese_water_dog/Portuguese_water_dog_07983.jpg to s3://myimageclassificationbucket/valid/125.Portuguese_water_dog/Portuguese_water_dog_07983.jpg\n",
      "upload: valid/125.Portuguese_water_dog/Portuguese_water_dog_08002.jpg to s3://myimageclassificationbucket/valid/125.Portuguese_water_dog/Portuguese_water_dog_08002.jpg\n",
      "upload: valid/127.Silky_terrier/Silky_terrier_08069.jpg to s3://myimageclassificationbucket/valid/127.Silky_terrier/Silky_terrier_08069.jpg\n",
      "upload: valid/127.Silky_terrier/Silky_terrier_08064.jpg to s3://myimageclassificationbucket/valid/127.Silky_terrier/Silky_terrier_08064.jpg\n",
      "upload: valid/126.Saint_bernard/Saint_bernard_08033.jpg to s3://myimageclassificationbucket/valid/126.Saint_bernard/Saint_bernard_08033.jpg\n",
      "upload: valid/127.Silky_terrier/Silky_terrier_08077.jpg to s3://myimageclassificationbucket/valid/127.Silky_terrier/Silky_terrier_08077.jpg\n",
      "upload: valid/128.Smooth_fox_terrier/Smooth_fox_terrier_08099.jpg to s3://myimageclassificationbucket/valid/128.Smooth_fox_terrier/Smooth_fox_terrier_08099.jpg\n",
      "upload: valid/127.Silky_terrier/Silky_terrier_08049.jpg to s3://myimageclassificationbucket/valid/127.Silky_terrier/Silky_terrier_08049.jpg\n",
      "upload: valid/127.Silky_terrier/Silky_terrier_08085.jpg to s3://myimageclassificationbucket/valid/127.Silky_terrier/Silky_terrier_08085.jpg\n",
      "upload: valid/129.Tibetan_mastiff/Tibetan_mastiff_08137.jpg to s3://myimageclassificationbucket/valid/129.Tibetan_mastiff/Tibetan_mastiff_08137.jpg\n",
      "upload: valid/125.Portuguese_water_dog/Portuguese_water_dog_07992.jpg to s3://myimageclassificationbucket/valid/125.Portuguese_water_dog/Portuguese_water_dog_07992.jpg\n",
      "upload: valid/128.Smooth_fox_terrier/Smooth_fox_terrier_08107.jpg to s3://myimageclassificationbucket/valid/128.Smooth_fox_terrier/Smooth_fox_terrier_08107.jpg\n",
      "upload: valid/128.Smooth_fox_terrier/Smooth_fox_terrier_08127.jpg to s3://myimageclassificationbucket/valid/128.Smooth_fox_terrier/Smooth_fox_terrier_08127.jpg\n",
      "upload: valid/130.Welsh_springer_spaniel/Welsh_springer_spaniel_08201.jpg to s3://myimageclassificationbucket/valid/130.Welsh_springer_spaniel/Welsh_springer_spaniel_08201.jpg\n",
      "upload: valid/128.Smooth_fox_terrier/Smooth_fox_terrier_08123.jpg to s3://myimageclassificationbucket/valid/128.Smooth_fox_terrier/Smooth_fox_terrier_08123.jpg\n",
      "upload: valid/130.Welsh_springer_spaniel/Welsh_springer_spaniel_08222.jpg to s3://myimageclassificationbucket/valid/130.Welsh_springer_spaniel/Welsh_springer_spaniel_08222.jpg\n",
      "upload: valid/126.Saint_bernard/Saint_bernard_08012.jpg to s3://myimageclassificationbucket/valid/126.Saint_bernard/Saint_bernard_08012.jpg\n",
      "upload: valid/130.Welsh_springer_spaniel/Welsh_springer_spaniel_08228.jpg to s3://myimageclassificationbucket/valid/130.Welsh_springer_spaniel/Welsh_springer_spaniel_08228.jpg\n",
      "upload: valid/130.Welsh_springer_spaniel/Welsh_springer_spaniel_08206.jpg to s3://myimageclassificationbucket/valid/130.Welsh_springer_spaniel/Welsh_springer_spaniel_08206.jpg\n",
      "upload: valid/129.Tibetan_mastiff/Tibetan_mastiff_08173.jpg to s3://myimageclassificationbucket/valid/129.Tibetan_mastiff/Tibetan_mastiff_08173.jpg\n",
      "upload: valid/129.Tibetan_mastiff/Tibetan_mastiff_08174.jpg to s3://myimageclassificationbucket/valid/129.Tibetan_mastiff/Tibetan_mastiff_08174.jpg\n",
      "upload: valid/129.Tibetan_mastiff/Tibetan_mastiff_08170.jpg to s3://myimageclassificationbucket/valid/129.Tibetan_mastiff/Tibetan_mastiff_08170.jpg\n",
      "upload: valid/129.Tibetan_mastiff/Tibetan_mastiff_08147.jpg to s3://myimageclassificationbucket/valid/129.Tibetan_mastiff/Tibetan_mastiff_08147.jpg\n",
      "upload: valid/129.Tibetan_mastiff/Tibetan_mastiff_08185.jpg to s3://myimageclassificationbucket/valid/129.Tibetan_mastiff/Tibetan_mastiff_08185.jpg\n",
      "upload: valid/130.Welsh_springer_spaniel/Welsh_springer_spaniel_08235.jpg to s3://myimageclassificationbucket/valid/130.Welsh_springer_spaniel/Welsh_springer_spaniel_08235.jpg\n",
      "upload: valid/131.Wirehaired_pointing_griffon/Wirehaired_pointing_griffon_08263.jpg to s3://myimageclassificationbucket/valid/131.Wirehaired_pointing_griffon/Wirehaired_pointing_griffon_08263.jpg\n",
      "upload: valid/132.Xoloitzcuintli/Xoloitzcuintli_08301.jpg to s3://myimageclassificationbucket/valid/132.Xoloitzcuintli/Xoloitzcuintli_08301.jpg\n",
      "upload: valid/130.Welsh_springer_spaniel/Welsh_springer_spaniel_08240.jpg to s3://myimageclassificationbucket/valid/130.Welsh_springer_spaniel/Welsh_springer_spaniel_08240.jpg\n",
      "upload: valid/131.Wirehaired_pointing_griffon/Wirehaired_pointing_griffon_08266.jpg to s3://myimageclassificationbucket/valid/131.Wirehaired_pointing_griffon/Wirehaired_pointing_griffon_08266.jpg\n",
      "upload: valid/132.Xoloitzcuintli/Xoloitzcuintli_08304.jpg to s3://myimageclassificationbucket/valid/132.Xoloitzcuintli/Xoloitzcuintli_08304.jpg\n",
      "upload: valid/132.Xoloitzcuintli/Xoloitzcuintli_08298.jpg to s3://myimageclassificationbucket/valid/132.Xoloitzcuintli/Xoloitzcuintli_08298.jpg\n",
      "upload: valid/132.Xoloitzcuintli/Xoloitzcuintli_08299.jpg to s3://myimageclassificationbucket/valid/132.Xoloitzcuintli/Xoloitzcuintli_08299.jpg\n",
      "upload: valid/131.Wirehaired_pointing_griffon/Wirehaired_pointing_griffon_08279.jpg to s3://myimageclassificationbucket/valid/131.Wirehaired_pointing_griffon/Wirehaired_pointing_griffon_08279.jpg\n",
      "upload: valid/133.Yorkshire_terrier/Yorkshire_terrier_08336.jpg to s3://myimageclassificationbucket/valid/133.Yorkshire_terrier/Yorkshire_terrier_08336.jpg\n",
      "upload: valid/133.Yorkshire_terrier/Yorkshire_terrier_08333.jpg to s3://myimageclassificationbucket/valid/133.Yorkshire_terrier/Yorkshire_terrier_08333.jpg\n",
      "upload: valid/133.Yorkshire_terrier/Yorkshire_terrier_08348.jpg to s3://myimageclassificationbucket/valid/133.Yorkshire_terrier/Yorkshire_terrier_08348.jpg\n",
      "upload: valid/131.Wirehaired_pointing_griffon/Wirehaired_pointing_griffon_08251.jpg to s3://myimageclassificationbucket/valid/131.Wirehaired_pointing_griffon/Wirehaired_pointing_griffon_08251.jpg\n",
      "upload: valid/133.Yorkshire_terrier/Yorkshire_terrier_08334.jpg to s3://myimageclassificationbucket/valid/133.Yorkshire_terrier/Yorkshire_terrier_08334.jpg\n"
     ]
    }
   ],
   "source": [
    "# Command to download and unzip data\n",
    "!wget https://s3-us-west-1.amazonaws.com/udacity-aind/dog-project/dogImages.zip;\n",
    "!unzip dogImages.zip;\n",
    "\n",
    "# Loading Data to s3\n",
    "os.chdir(\"dogImages\")\n",
    "os.environ[\"DEFAULT_S3_BUCKET\"] = bucket\n",
    "!aws s3 sync ./train s3://${DEFAULT_S3_BUCKET}/train/\n",
    "!aws s3 sync ./test s3://${DEFAULT_S3_BUCKET}/test/\n",
    "!aws s3 sync ./valid s3://${DEFAULT_S3_BUCKET}/valid/"
   ]
  },
  {
   "cell_type": "code",
   "execution_count": 5,
   "metadata": {
    "tags": []
   },
   "outputs": [],
   "source": [
    "model_inputs = {\n",
    "        \"train\": sagemaker.inputs.TrainingInput(\n",
    "            s3_data=f\"s3://{bucket}/train/\",\n",
    "            content_type=\"application/x-image\"\n",
    "        ),\n",
    "        \"validation\": sagemaker.inputs.TrainingInput(\n",
    "            s3_data=f\"s3://{bucket}/test/\",\n",
    "            content_type=\"application/x-image\"\n",
    "        ),\n",
    "        \"train_lst\": sagemaker.inputs.TrainingInput(\n",
    "            s3_data=f\"s3://{bucket}/train.lst\",\n",
    "            content_type=\"application/x-image\"\n",
    "        ),\n",
    "        \"validation_lst\": sagemaker.inputs.TrainingInput(\n",
    "            s3_data=f\"s3://{bucket}/test.lst\",\n",
    "            content_type=\"application/x-image\"\n",
    "        )\n",
    "}"
   ]
  },
  {
   "cell_type": "code",
   "execution_count": null,
   "metadata": {},
   "outputs": [],
   "source": [
    "hyperparameters = {\"batch-size\": \"32\", \"epochs\": \"2\",  \"test-batch-size\": \"100\", \"lr\": \"0.001\"}"
   ]
  },
  {
   "cell_type": "code",
   "execution_count": null,
   "metadata": {},
   "outputs": [],
   "source": [
    "estimator = PyTorch(\n",
    "    entry_point=\"train_model.py\",\n",
    "    role=role,\n",
    "    py_version='py36',\n",
    "    framework_version=\"1.8\",\n",
    "    instance_count=1,\n",
    "    instance_type=\"ml.m5.large\"\n",
    ")"
   ]
  },
  {
   "cell_type": "markdown",
   "metadata": {},
   "source": [
    "## Hyperparameter Tuning\n",
    "**TODO:** This is the part where you will finetune a pretrained model with hyperparameter tuning. Remember that you have to tune a minimum of two hyperparameters. However you are encouraged to tune more. You are also encouraged to explain why you chose to tune those particular hyperparameters and the ranges.\n",
    "\n",
    "**Note:** You will need to use the `hpo.py` script to perform hyperparameter tuning."
   ]
  },
  {
   "cell_type": "code",
   "execution_count": null,
   "metadata": {},
   "outputs": [],
   "source": [
    "#TODO: Declare your HP ranges, metrics etc."
   ]
  },
  {
   "cell_type": "code",
   "execution_count": null,
   "metadata": {},
   "outputs": [],
   "source": [
    "#TODO: Create estimators for your HPs\n",
    "\n",
    "estimator = # TODO: Your estimator here\n",
    "\n",
    "tuner = # TODO: Your HP tuner here"
   ]
  },
  {
   "cell_type": "code",
   "execution_count": null,
   "metadata": {},
   "outputs": [],
   "source": [
    "# TODO: Fit your HP Tuner\n",
    "tuner.fit() # TODO: Remember to include your data channels"
   ]
  },
  {
   "cell_type": "code",
   "execution_count": null,
   "metadata": {},
   "outputs": [],
   "source": [
    "# TODO: Get the best estimators and the best HPs\n",
    "\n",
    "best_estimator = #TODO\n",
    "\n",
    "#Get the hyperparameters of the best trained model\n",
    "best_estimator.hyperparameters()"
   ]
  },
  {
   "cell_type": "markdown",
   "metadata": {},
   "source": [
    "## Model Profiling and Debugging\n",
    "TODO: Using the best hyperparameters, create and finetune a new model\n",
    "\n",
    "**Note:** You will need to use the `train_model.py` script to perform model profiling and debugging."
   ]
  },
  {
   "cell_type": "code",
   "execution_count": null,
   "metadata": {},
   "outputs": [],
   "source": [
    "# TODO: Set up debugging and profiling rules and hooks"
   ]
  },
  {
   "cell_type": "code",
   "execution_count": null,
   "metadata": {},
   "outputs": [],
   "source": [
    "# TODO: Create and fit an estimator\n",
    "\n",
    "estimator = # TODO: Your estimator here"
   ]
  },
  {
   "cell_type": "code",
   "execution_count": null,
   "metadata": {},
   "outputs": [],
   "source": [
    "# TODO: Plot a debugging output."
   ]
  },
  {
   "cell_type": "markdown",
   "metadata": {},
   "source": [
    "**TODO**: Is there some anomalous behaviour in your debugging output? If so, what is the error and how will you fix it?  \n",
    "**TODO**: If not, suppose there was an error. What would that error look like and how would you have fixed it?"
   ]
  },
  {
   "cell_type": "code",
   "execution_count": null,
   "metadata": {},
   "outputs": [],
   "source": [
    "# TODO: Display the profiler output"
   ]
  },
  {
   "cell_type": "markdown",
   "metadata": {},
   "source": [
    "## Model Deploying"
   ]
  },
  {
   "cell_type": "code",
   "execution_count": null,
   "metadata": {},
   "outputs": [],
   "source": [
    "# TODO: Deploy your model to an endpoint\n",
    "\n",
    "predictor=estimator.deploy() # TODO: Add your deployment configuration like instance type and number of instances"
   ]
  },
  {
   "cell_type": "code",
   "execution_count": null,
   "metadata": {},
   "outputs": [],
   "source": [
    "# TODO: Run an prediction on the endpoint\n",
    "\n",
    "image = # TODO: Your code to load and preprocess image to send to endpoint for prediction\n",
    "response = predictor.predict(image)"
   ]
  },
  {
   "cell_type": "code",
   "execution_count": null,
   "metadata": {},
   "outputs": [],
   "source": [
    "# TODO: Remember to shutdown/delete your endpoint once your work is done\n",
    "predictor.delete_endpoint()"
   ]
  },
  {
   "cell_type": "code",
   "execution_count": null,
   "metadata": {},
   "outputs": [],
   "source": []
  }
 ],
 "metadata": {
  "instance_type": "ml.t3.medium",
  "kernelspec": {
   "display_name": "Python 3 (Data Science)",
   "language": "python",
   "name": "python3__SAGEMAKER_INTERNAL__arn:aws:sagemaker:us-east-1:081325390199:image/datascience-1.0"
  },
  "language_info": {
   "codemirror_mode": {
    "name": "ipython",
    "version": 3
   },
   "file_extension": ".py",
   "mimetype": "text/x-python",
   "name": "python",
   "nbconvert_exporter": "python",
   "pygments_lexer": "ipython3",
   "version": "3.7.10"
  }
 },
 "nbformat": 4,
 "nbformat_minor": 4
}
