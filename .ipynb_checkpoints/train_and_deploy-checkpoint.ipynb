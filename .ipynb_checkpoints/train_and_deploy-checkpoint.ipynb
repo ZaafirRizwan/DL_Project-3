{
 "cells": [
  {
   "cell_type": "markdown",
   "metadata": {},
   "source": [
    "# Title: Image Classification using Sagemaker \n",
    "\n",
    "This notebook lists all the steps that you need to complete the complete this project. You will need to complete all the TODOs in this notebook as well as in the README and the two python scripts included with the starter code.\n",
    "\n",
    "\n",
    "**TODO**: Give a helpful introduction to what this notebook is for. Remember that comments, explanations and good documentation make your project informative and professional.\n",
    "\n",
    "**Note:** This notebook has a bunch of code and markdown cells with TODOs that you have to complete. These are meant to be helpful guidelines for you to finish your project while meeting the requirements in the project rubrics. Feel free to change the order of these the TODO's and use more than one TODO code cell to do all your tasks."
   ]
  },
  {
   "cell_type": "markdown",
   "metadata": {},
   "source": [
    "**Introduction: I will be performing Image Classification on dog breed Dataset. Here, I will be using Pretrained Image Classifier for feature extraction and then appending few fully connected layers at the end for classifying the dog breeds. Code of image classification will be implemented on train.py.**  "
   ]
  },
  {
   "cell_type": "code",
   "execution_count": 2,
   "metadata": {
    "scrolled": true,
    "tags": []
   },
   "outputs": [
    {
     "name": "stdout",
     "output_type": "stream",
     "text": [
      "Keyring is skipped due to an exception: 'keyring.backends'\n",
      "Requirement already satisfied: smdebug in /opt/conda/lib/python3.7/site-packages (1.0.12)\n",
      "Requirement already satisfied: packaging in /opt/conda/lib/python3.7/site-packages (from smdebug) (20.1)\n",
      "Requirement already satisfied: boto3>=1.10.32 in /opt/conda/lib/python3.7/site-packages (from smdebug) (1.26.24)\n",
      "Requirement already satisfied: numpy>=1.16.0 in /opt/conda/lib/python3.7/site-packages (from smdebug) (1.21.6)\n",
      "Requirement already satisfied: protobuf>=3.6.0 in /opt/conda/lib/python3.7/site-packages (from smdebug) (3.20.3)\n",
      "Requirement already satisfied: pyinstrument==3.4.2 in /opt/conda/lib/python3.7/site-packages (from smdebug) (3.4.2)\n",
      "Requirement already satisfied: pyinstrument-cext>=0.2.2 in /opt/conda/lib/python3.7/site-packages (from pyinstrument==3.4.2->smdebug) (0.2.4)\n",
      "Requirement already satisfied: s3transfer<0.7.0,>=0.6.0 in /opt/conda/lib/python3.7/site-packages (from boto3>=1.10.32->smdebug) (0.6.0)\n",
      "Requirement already satisfied: jmespath<2.0.0,>=0.7.1 in /opt/conda/lib/python3.7/site-packages (from boto3>=1.10.32->smdebug) (1.0.1)\n",
      "Requirement already satisfied: botocore<1.30.0,>=1.29.24 in /opt/conda/lib/python3.7/site-packages (from boto3>=1.10.32->smdebug) (1.29.24)\n",
      "Requirement already satisfied: pyparsing>=2.0.2 in /opt/conda/lib/python3.7/site-packages (from packaging->smdebug) (2.4.6)\n",
      "Requirement already satisfied: six in /opt/conda/lib/python3.7/site-packages (from packaging->smdebug) (1.14.0)\n",
      "Requirement already satisfied: python-dateutil<3.0.0,>=2.1 in /opt/conda/lib/python3.7/site-packages (from botocore<1.30.0,>=1.29.24->boto3>=1.10.32->smdebug) (2.8.2)\n",
      "Requirement already satisfied: urllib3<1.27,>=1.25.4 in /opt/conda/lib/python3.7/site-packages (from botocore<1.30.0,>=1.29.24->boto3>=1.10.32->smdebug) (1.26.13)\n",
      "\u001b[33mWARNING: Running pip as the 'root' user can result in broken permissions and conflicting behaviour with the system package manager. It is recommended to use a virtual environment instead: https://pip.pypa.io/warnings/venv\u001b[0m\u001b[33m\n",
      "\u001b[0mKeyring is skipped due to an exception: 'keyring.backends'\n",
      "Requirement already satisfied: requests in /opt/conda/lib/python3.7/site-packages (2.28.1)\n",
      "Requirement already satisfied: charset-normalizer<3,>=2 in /opt/conda/lib/python3.7/site-packages (from requests) (2.0.4)\n",
      "Requirement already satisfied: certifi>=2017.4.17 in /opt/conda/lib/python3.7/site-packages (from requests) (2022.9.24)\n",
      "Requirement already satisfied: urllib3<1.27,>=1.21.1 in /opt/conda/lib/python3.7/site-packages (from requests) (1.26.13)\n",
      "Requirement already satisfied: idna<4,>=2.5 in /opt/conda/lib/python3.7/site-packages (from requests) (2.8)\n",
      "\u001b[33mWARNING: Running pip as the 'root' user can result in broken permissions and conflicting behaviour with the system package manager. It is recommended to use a virtual environment instead: https://pip.pypa.io/warnings/venv\u001b[0m\u001b[33m\n",
      "\u001b[0m"
     ]
    }
   ],
   "source": [
    "# TODO: Install any packages that you might need\n",
    "# For instance, you will need the smdebug package\n",
    "!pip install smdebug\n",
    "!pip install requests"
   ]
  },
  {
   "cell_type": "code",
   "execution_count": 3,
   "metadata": {
    "tags": []
   },
   "outputs": [],
   "source": [
    "# TODO: Import any packages that you might need\n",
    "# For instance you will need Boto3 and Sagemaker\n",
    "import pandas\n",
    "import requests\n",
    "import sagemaker\n",
    "import boto3\n",
    "from sagemaker import get_execution_role\n",
    "import os\n",
    "from sagemaker.pytorch import PyTorch\n",
    "from sagemaker import get_execution_role\n",
    "from sagemaker.debugger import (\n",
    "    Rule,\n",
    "    DebuggerHookConfig,\n",
    "    rule_configs,\n",
    ")\n",
    "from sagemaker.debugger import Rule, ProfilerRule, rule_configs"
   ]
  },
  {
   "cell_type": "markdown",
   "metadata": {},
   "source": [
    "## Dataset\n",
    "TODO: Explain what dataset you are using for this project. Maybe even give a small overview of the classes, class distributions etc that can help anyone not familiar with the dataset get a better understand of it."
   ]
  },
  {
   "cell_type": "code",
   "execution_count": 4,
   "metadata": {
    "tags": []
   },
   "outputs": [
    {
     "name": "stdout",
     "output_type": "stream",
     "text": [
      "Default Bucket: myimageclassificationbucket\n",
      "AWS Region: us-east-1\n",
      "RoleArn: arn:aws:iam::533883467299:role/service-role/AmazonSageMaker-ExecutionRole-20230122T135976\n"
     ]
    }
   ],
   "source": [
    "session = boto3.Session()\n",
    "\n",
    "\n",
    "bucket= \"myimageclassificationbucket\"\n",
    "print(\"Default Bucket: {}\".format(bucket))\n",
    "\n",
    "region = session.region_name\n",
    "print(\"AWS Region: {}\".format(region))\n",
    "\n",
    "role = get_execution_role()\n",
    "print(\"RoleArn: {}\".format(role))"
   ]
  },
  {
   "cell_type": "code",
   "execution_count": 4,
   "metadata": {
    "tags": []
   },
   "outputs": [
    {
     "name": "stdout",
     "output_type": "stream",
     "text": [
      "upload: valid/109.Norwegian_elkhound/Norwegian_elkhound_07159.jpg to s3://myimageclassificationbucket/valid/109.Norwegian_elkhound/Norwegian_elkhound_07159.jpg\n",
      "upload: valid/109.Norwegian_elkhound/Norwegian_elkhound_07164.jpg to s3://myimageclassificationbucket/valid/109.Norwegian_elkhound/Norwegian_elkhound_07164.jpg\n",
      "upload: valid/109.Norwegian_elkhound/Norwegian_elkhound_07178.jpg to s3://myimageclassificationbucket/valid/109.Norwegian_elkhound/Norwegian_elkhound_07178.jpg\n",
      "upload: valid/107.Norfolk_terrier/Norfolk_terrier_07087.jpg to s3://myimageclassificationbucket/valid/107.Norfolk_terrier/Norfolk_terrier_07087.jpg\n",
      "upload: valid/109.Norwegian_elkhound/Norwegian_elkhound_07131.jpg to s3://myimageclassificationbucket/valid/109.Norwegian_elkhound/Norwegian_elkhound_07131.jpg\n",
      "upload: valid/110.Norwegian_lundehund/Norwegian_lundehund_07203.jpg to s3://myimageclassificationbucket/valid/110.Norwegian_lundehund/Norwegian_lundehund_07203.jpg\n",
      "upload: valid/107.Norfolk_terrier/Norfolk_terrier_07083.jpg to s3://myimageclassificationbucket/valid/107.Norfolk_terrier/Norfolk_terrier_07083.jpg\n",
      "upload: valid/110.Norwegian_lundehund/Norwegian_lundehund_07205.jpg to s3://myimageclassificationbucket/valid/110.Norwegian_lundehund/Norwegian_lundehund_07205.jpg\n",
      "upload: valid/110.Norwegian_lundehund/Norwegian_lundehund_07201.jpg to s3://myimageclassificationbucket/valid/110.Norwegian_lundehund/Norwegian_lundehund_07201.jpg\n",
      "upload: valid/108.Norwegian_buhund/Norwegian_buhund_07119.jpg to s3://myimageclassificationbucket/valid/108.Norwegian_buhund/Norwegian_buhund_07119.jpg\n",
      "upload: valid/109.Norwegian_elkhound/Norwegian_elkhound_07134.jpg to s3://myimageclassificationbucket/valid/109.Norwegian_elkhound/Norwegian_elkhound_07134.jpg\n",
      "upload: valid/110.Norwegian_lundehund/Norwegian_lundehund_07194.jpg to s3://myimageclassificationbucket/valid/110.Norwegian_lundehund/Norwegian_lundehund_07194.jpg\n",
      "upload: valid/111.Norwich_terrier/Norwich_terrier_07248.jpg to s3://myimageclassificationbucket/valid/111.Norwich_terrier/Norwich_terrier_07248.jpg\n",
      "upload: valid/109.Norwegian_elkhound/Norwegian_elkhound_07128.jpg to s3://myimageclassificationbucket/valid/109.Norwegian_elkhound/Norwegian_elkhound_07128.jpg\n",
      "upload: valid/108.Norwegian_buhund/Norwegian_buhund_07102.jpg to s3://myimageclassificationbucket/valid/108.Norwegian_buhund/Norwegian_buhund_07102.jpg\n",
      "upload: valid/111.Norwich_terrier/Norwich_terrier_07270.jpg to s3://myimageclassificationbucket/valid/111.Norwich_terrier/Norwich_terrier_07270.jpg\n",
      "upload: valid/111.Norwich_terrier/Norwich_terrier_07265.jpg to s3://myimageclassificationbucket/valid/111.Norwich_terrier/Norwich_terrier_07265.jpg\n",
      "upload: valid/112.Nova_scotia_duck_tolling_retriever/Nova_scotia_duck_tolling_retriever_07309.jpg to s3://myimageclassificationbucket/valid/112.Nova_scotia_duck_tolling_retriever/Nova_scotia_duck_tolling_retriever_07309.jpg\n",
      "upload: valid/112.Nova_scotia_duck_tolling_retriever/Nova_scotia_duck_tolling_retriever_07325.jpg to s3://myimageclassificationbucket/valid/112.Nova_scotia_duck_tolling_retriever/Nova_scotia_duck_tolling_retriever_07325.jpg\n",
      "upload: valid/112.Nova_scotia_duck_tolling_retriever/Nova_scotia_duck_tolling_retriever_07333.jpg to s3://myimageclassificationbucket/valid/112.Nova_scotia_duck_tolling_retriever/Nova_scotia_duck_tolling_retriever_07333.jpg\n",
      "upload: valid/111.Norwich_terrier/Norwich_terrier_07271.jpg to s3://myimageclassificationbucket/valid/111.Norwich_terrier/Norwich_terrier_07271.jpg\n",
      "upload: valid/111.Norwich_terrier/Norwich_terrier_07238.jpg to s3://myimageclassificationbucket/valid/111.Norwich_terrier/Norwich_terrier_07238.jpg\n",
      "upload: valid/112.Nova_scotia_duck_tolling_retriever/Nova_scotia_duck_tolling_retriever_07330.jpg to s3://myimageclassificationbucket/valid/112.Nova_scotia_duck_tolling_retriever/Nova_scotia_duck_tolling_retriever_07330.jpg\n",
      "upload: valid/111.Norwich_terrier/Norwich_terrier_07239.jpg to s3://myimageclassificationbucket/valid/111.Norwich_terrier/Norwich_terrier_07239.jpg\n",
      "upload: valid/112.Nova_scotia_duck_tolling_retriever/Nova_scotia_duck_tolling_retriever_07336.jpg to s3://myimageclassificationbucket/valid/112.Nova_scotia_duck_tolling_retriever/Nova_scotia_duck_tolling_retriever_07336.jpg\n",
      "upload: valid/113.Old_english_sheepdog/Old_english_sheepdog_07356.jpg to s3://myimageclassificationbucket/valid/113.Old_english_sheepdog/Old_english_sheepdog_07356.jpg\n",
      "upload: valid/112.Nova_scotia_duck_tolling_retriever/Nova_scotia_duck_tolling_retriever_07285.jpg to s3://myimageclassificationbucket/valid/112.Nova_scotia_duck_tolling_retriever/Nova_scotia_duck_tolling_retriever_07285.jpg\n",
      "upload: valid/113.Old_english_sheepdog/Old_english_sheepdog_07380.jpg to s3://myimageclassificationbucket/valid/113.Old_english_sheepdog/Old_english_sheepdog_07380.jpg\n",
      "upload: valid/113.Old_english_sheepdog/Old_english_sheepdog_07366.jpg to s3://myimageclassificationbucket/valid/113.Old_english_sheepdog/Old_english_sheepdog_07366.jpg\n",
      "upload: valid/113.Old_english_sheepdog/Old_english_sheepdog_07357.jpg to s3://myimageclassificationbucket/valid/113.Old_english_sheepdog/Old_english_sheepdog_07357.jpg\n",
      "upload: valid/114.Otterhound/Otterhound_07421.jpg to s3://myimageclassificationbucket/valid/114.Otterhound/Otterhound_07421.jpg\n",
      "upload: valid/115.Papillon/Papillon_07438.jpg to s3://myimageclassificationbucket/valid/115.Papillon/Papillon_07438.jpg\n",
      "upload: valid/114.Otterhound/Otterhound_07396.jpg to s3://myimageclassificationbucket/valid/114.Otterhound/Otterhound_07396.jpg\n",
      "upload: valid/114.Otterhound/Otterhound_07437.jpg to s3://myimageclassificationbucket/valid/114.Otterhound/Otterhound_07437.jpg\n",
      "upload: valid/113.Old_english_sheepdog/Old_english_sheepdog_07382.jpg to s3://myimageclassificationbucket/valid/113.Old_english_sheepdog/Old_english_sheepdog_07382.jpg\n",
      "upload: valid/115.Papillon/Papillon_07445.jpg to s3://myimageclassificationbucket/valid/115.Papillon/Papillon_07445.jpg\n",
      "upload: valid/114.Otterhound/Otterhound_07402.jpg to s3://myimageclassificationbucket/valid/114.Otterhound/Otterhound_07402.jpg\n",
      "upload: valid/115.Papillon/Papillon_07468.jpg to s3://myimageclassificationbucket/valid/115.Papillon/Papillon_07468.jpg\n",
      "upload: valid/114.Otterhound/Otterhound_07409.jpg to s3://myimageclassificationbucket/valid/114.Otterhound/Otterhound_07409.jpg\n",
      "upload: valid/115.Papillon/Papillon_07487.jpg to s3://myimageclassificationbucket/valid/115.Papillon/Papillon_07487.jpg\n",
      "upload: valid/115.Papillon/Papillon_07495.jpg to s3://myimageclassificationbucket/valid/115.Papillon/Papillon_07495.jpg\n",
      "upload: valid/115.Papillon/Papillon_07448.jpg to s3://myimageclassificationbucket/valid/115.Papillon/Papillon_07448.jpg\n",
      "upload: valid/115.Papillon/Papillon_07496.jpg to s3://myimageclassificationbucket/valid/115.Papillon/Papillon_07496.jpg\n",
      "upload: valid/117.Pekingese/Pekingese_07604.jpg to s3://myimageclassificationbucket/valid/117.Pekingese/Pekingese_07604.jpg\n",
      "upload: valid/116.Parson_russell_terrier/Parson_russell_terrier_07543.jpg to s3://myimageclassificationbucket/valid/116.Parson_russell_terrier/Parson_russell_terrier_07543.jpg\n",
      "upload: valid/115.Papillon/Papillon_07484.jpg to s3://myimageclassificationbucket/valid/115.Papillon/Papillon_07484.jpg\n",
      "upload: valid/116.Parson_russell_terrier/Parson_russell_terrier_07554.jpg to s3://myimageclassificationbucket/valid/116.Parson_russell_terrier/Parson_russell_terrier_07554.jpg\n",
      "upload: valid/116.Parson_russell_terrier/Parson_russell_terrier_07550.jpg to s3://myimageclassificationbucket/valid/116.Parson_russell_terrier/Parson_russell_terrier_07550.jpg\n",
      "upload: valid/117.Pekingese/Pekingese_07609.jpg to s3://myimageclassificationbucket/valid/117.Pekingese/Pekingese_07609.jpg\n",
      "upload: valid/117.Pekingese/Pekingese_07580.jpg to s3://myimageclassificationbucket/valid/117.Pekingese/Pekingese_07580.jpg\n",
      "upload: valid/117.Pekingese/Pekingese_07574.jpg to s3://myimageclassificationbucket/valid/117.Pekingese/Pekingese_07574.jpg\n",
      "upload: valid/117.Pekingese/Pekingese_07583.jpg to s3://myimageclassificationbucket/valid/117.Pekingese/Pekingese_07583.jpg\n",
      "upload: valid/117.Pekingese/Pekingese_07612.jpg to s3://myimageclassificationbucket/valid/117.Pekingese/Pekingese_07612.jpg\n",
      "upload: valid/116.Parson_russell_terrier/Parson_russell_terrier_07546.jpg to s3://myimageclassificationbucket/valid/116.Parson_russell_terrier/Parson_russell_terrier_07546.jpg\n",
      "upload: valid/118.Pembroke_welsh_corgi/Pembroke_welsh_corgi_07676.jpg to s3://myimageclassificationbucket/valid/118.Pembroke_welsh_corgi/Pembroke_welsh_corgi_07676.jpg\n",
      "upload: valid/118.Pembroke_welsh_corgi/Pembroke_welsh_corgi_07643.jpg to s3://myimageclassificationbucket/valid/118.Pembroke_welsh_corgi/Pembroke_welsh_corgi_07643.jpg\n",
      "upload: valid/118.Pembroke_welsh_corgi/Pembroke_welsh_corgi_07657.jpg to s3://myimageclassificationbucket/valid/118.Pembroke_welsh_corgi/Pembroke_welsh_corgi_07657.jpg\n",
      "upload: valid/118.Pembroke_welsh_corgi/Pembroke_welsh_corgi_07638.jpg to s3://myimageclassificationbucket/valid/118.Pembroke_welsh_corgi/Pembroke_welsh_corgi_07638.jpg\n",
      "upload: valid/118.Pembroke_welsh_corgi/Pembroke_welsh_corgi_07640.jpg to s3://myimageclassificationbucket/valid/118.Pembroke_welsh_corgi/Pembroke_welsh_corgi_07640.jpg\n",
      "upload: valid/119.Petit_basset_griffon_vendeen/Petit_basset_griffon_vendeen_07706.jpg to s3://myimageclassificationbucket/valid/119.Petit_basset_griffon_vendeen/Petit_basset_griffon_vendeen_07706.jpg\n",
      "upload: valid/118.Pembroke_welsh_corgi/Pembroke_welsh_corgi_07670.jpg to s3://myimageclassificationbucket/valid/118.Pembroke_welsh_corgi/Pembroke_welsh_corgi_07670.jpg\n",
      "upload: valid/119.Petit_basset_griffon_vendeen/Petit_basset_griffon_vendeen_07693.jpg to s3://myimageclassificationbucket/valid/119.Petit_basset_griffon_vendeen/Petit_basset_griffon_vendeen_07693.jpg\n",
      "upload: valid/120.Pharaoh_hound/Pharaoh_hound_07758.jpg to s3://myimageclassificationbucket/valid/120.Pharaoh_hound/Pharaoh_hound_07758.jpg\n",
      "upload: valid/121.Plott/Plott_07780.jpg to s3://myimageclassificationbucket/valid/121.Plott/Plott_07780.jpg\n",
      "upload: valid/120.Pharaoh_hound/Pharaoh_hound_07752.jpg to s3://myimageclassificationbucket/valid/120.Pharaoh_hound/Pharaoh_hound_07752.jpg\n",
      "upload: valid/120.Pharaoh_hound/Pharaoh_hound_07720.jpg to s3://myimageclassificationbucket/valid/120.Pharaoh_hound/Pharaoh_hound_07720.jpg\n",
      "upload: valid/120.Pharaoh_hound/Pharaoh_hound_07744.jpg to s3://myimageclassificationbucket/valid/120.Pharaoh_hound/Pharaoh_hound_07744.jpg\n",
      "upload: valid/119.Petit_basset_griffon_vendeen/Petit_basset_griffon_vendeen_07703.jpg to s3://myimageclassificationbucket/valid/119.Petit_basset_griffon_vendeen/Petit_basset_griffon_vendeen_07703.jpg\n",
      "upload: valid/121.Plott/Plott_07796.jpg to s3://myimageclassificationbucket/valid/121.Plott/Plott_07796.jpg\n",
      "upload: valid/119.Petit_basset_griffon_vendeen/Petit_basset_griffon_vendeen_07713.jpg to s3://myimageclassificationbucket/valid/119.Petit_basset_griffon_vendeen/Petit_basset_griffon_vendeen_07713.jpg\n",
      "upload: valid/121.Plott/Plott_07771.jpg to s3://myimageclassificationbucket/valid/121.Plott/Plott_07771.jpg\n",
      "upload: valid/122.Pointer/Pointer_07831.jpg to s3://myimageclassificationbucket/valid/122.Pointer/Pointer_07831.jpg\n",
      "upload: valid/120.Pharaoh_hound/Pharaoh_hound_07730.jpg to s3://myimageclassificationbucket/valid/120.Pharaoh_hound/Pharaoh_hound_07730.jpg\n",
      "upload: valid/121.Plott/Plott_07802.jpg to s3://myimageclassificationbucket/valid/121.Plott/Plott_07802.jpg\n",
      "upload: valid/122.Pointer/Pointer_07834.jpg to s3://myimageclassificationbucket/valid/122.Pointer/Pointer_07834.jpg\n",
      "upload: valid/122.Pointer/Pointer_07826.jpg to s3://myimageclassificationbucket/valid/122.Pointer/Pointer_07826.jpg\n",
      "upload: valid/123.Pomeranian/Pomeranian_07869.jpg to s3://myimageclassificationbucket/valid/123.Pomeranian/Pomeranian_07869.jpg\n",
      "upload: valid/122.Pointer/Pointer_07808.jpg to s3://myimageclassificationbucket/valid/122.Pointer/Pointer_07808.jpg\n",
      "upload: valid/123.Pomeranian/Pomeranian_07866.jpg to s3://myimageclassificationbucket/valid/123.Pomeranian/Pomeranian_07866.jpg\n",
      "upload: valid/123.Pomeranian/Pomeranian_07853.jpg to s3://myimageclassificationbucket/valid/123.Pomeranian/Pomeranian_07853.jpg\n",
      "upload: valid/123.Pomeranian/Pomeranian_07894.jpg to s3://myimageclassificationbucket/valid/123.Pomeranian/Pomeranian_07894.jpg\n",
      "upload: valid/124.Poodle/Poodle_07914.jpg to s3://myimageclassificationbucket/valid/124.Poodle/Poodle_07914.jpg\n",
      "upload: valid/123.Pomeranian/Pomeranian_07881.jpg to s3://myimageclassificationbucket/valid/123.Pomeranian/Pomeranian_07881.jpg\n",
      "upload: valid/123.Pomeranian/Pomeranian_07863.jpg to s3://myimageclassificationbucket/valid/123.Pomeranian/Pomeranian_07863.jpg\n",
      "upload: valid/124.Poodle/Poodle_07905.jpg to s3://myimageclassificationbucket/valid/124.Poodle/Poodle_07905.jpg\n",
      "upload: valid/124.Poodle/Poodle_07911.jpg to s3://myimageclassificationbucket/valid/124.Poodle/Poodle_07911.jpg\n",
      "upload: valid/125.Portuguese_water_dog/Portuguese_water_dog_07996.jpg to s3://myimageclassificationbucket/valid/125.Portuguese_water_dog/Portuguese_water_dog_07996.jpg\n",
      "upload: valid/126.Saint_bernard/Saint_bernard_08011.jpg to s3://myimageclassificationbucket/valid/126.Saint_bernard/Saint_bernard_08011.jpg\n",
      "upload: valid/124.Poodle/Poodle_07946.jpg to s3://myimageclassificationbucket/valid/124.Poodle/Poodle_07946.jpg\n",
      "upload: valid/124.Poodle/Poodle_07913.jpg to s3://myimageclassificationbucket/valid/124.Poodle/Poodle_07913.jpg\n",
      "upload: valid/124.Poodle/Poodle_07948.jpg to s3://myimageclassificationbucket/valid/124.Poodle/Poodle_07948.jpg\n",
      "upload: valid/126.Saint_bernard/Saint_bernard_08030.jpg to s3://myimageclassificationbucket/valid/126.Saint_bernard/Saint_bernard_08030.jpg\n",
      "upload: valid/125.Portuguese_water_dog/Portuguese_water_dog_07983.jpg to s3://myimageclassificationbucket/valid/125.Portuguese_water_dog/Portuguese_water_dog_07983.jpg\n",
      "upload: valid/125.Portuguese_water_dog/Portuguese_water_dog_08002.jpg to s3://myimageclassificationbucket/valid/125.Portuguese_water_dog/Portuguese_water_dog_08002.jpg\n",
      "upload: valid/127.Silky_terrier/Silky_terrier_08069.jpg to s3://myimageclassificationbucket/valid/127.Silky_terrier/Silky_terrier_08069.jpg\n",
      "upload: valid/127.Silky_terrier/Silky_terrier_08064.jpg to s3://myimageclassificationbucket/valid/127.Silky_terrier/Silky_terrier_08064.jpg\n",
      "upload: valid/126.Saint_bernard/Saint_bernard_08033.jpg to s3://myimageclassificationbucket/valid/126.Saint_bernard/Saint_bernard_08033.jpg\n",
      "upload: valid/127.Silky_terrier/Silky_terrier_08077.jpg to s3://myimageclassificationbucket/valid/127.Silky_terrier/Silky_terrier_08077.jpg\n",
      "upload: valid/128.Smooth_fox_terrier/Smooth_fox_terrier_08099.jpg to s3://myimageclassificationbucket/valid/128.Smooth_fox_terrier/Smooth_fox_terrier_08099.jpg\n",
      "upload: valid/127.Silky_terrier/Silky_terrier_08049.jpg to s3://myimageclassificationbucket/valid/127.Silky_terrier/Silky_terrier_08049.jpg\n",
      "upload: valid/127.Silky_terrier/Silky_terrier_08085.jpg to s3://myimageclassificationbucket/valid/127.Silky_terrier/Silky_terrier_08085.jpg\n",
      "upload: valid/129.Tibetan_mastiff/Tibetan_mastiff_08137.jpg to s3://myimageclassificationbucket/valid/129.Tibetan_mastiff/Tibetan_mastiff_08137.jpg\n",
      "upload: valid/125.Portuguese_water_dog/Portuguese_water_dog_07992.jpg to s3://myimageclassificationbucket/valid/125.Portuguese_water_dog/Portuguese_water_dog_07992.jpg\n",
      "upload: valid/128.Smooth_fox_terrier/Smooth_fox_terrier_08107.jpg to s3://myimageclassificationbucket/valid/128.Smooth_fox_terrier/Smooth_fox_terrier_08107.jpg\n",
      "upload: valid/128.Smooth_fox_terrier/Smooth_fox_terrier_08127.jpg to s3://myimageclassificationbucket/valid/128.Smooth_fox_terrier/Smooth_fox_terrier_08127.jpg\n",
      "upload: valid/130.Welsh_springer_spaniel/Welsh_springer_spaniel_08201.jpg to s3://myimageclassificationbucket/valid/130.Welsh_springer_spaniel/Welsh_springer_spaniel_08201.jpg\n",
      "upload: valid/128.Smooth_fox_terrier/Smooth_fox_terrier_08123.jpg to s3://myimageclassificationbucket/valid/128.Smooth_fox_terrier/Smooth_fox_terrier_08123.jpg\n",
      "upload: valid/130.Welsh_springer_spaniel/Welsh_springer_spaniel_08222.jpg to s3://myimageclassificationbucket/valid/130.Welsh_springer_spaniel/Welsh_springer_spaniel_08222.jpg\n",
      "upload: valid/126.Saint_bernard/Saint_bernard_08012.jpg to s3://myimageclassificationbucket/valid/126.Saint_bernard/Saint_bernard_08012.jpg\n",
      "upload: valid/130.Welsh_springer_spaniel/Welsh_springer_spaniel_08228.jpg to s3://myimageclassificationbucket/valid/130.Welsh_springer_spaniel/Welsh_springer_spaniel_08228.jpg\n",
      "upload: valid/130.Welsh_springer_spaniel/Welsh_springer_spaniel_08206.jpg to s3://myimageclassificationbucket/valid/130.Welsh_springer_spaniel/Welsh_springer_spaniel_08206.jpg\n",
      "upload: valid/129.Tibetan_mastiff/Tibetan_mastiff_08173.jpg to s3://myimageclassificationbucket/valid/129.Tibetan_mastiff/Tibetan_mastiff_08173.jpg\n",
      "upload: valid/129.Tibetan_mastiff/Tibetan_mastiff_08174.jpg to s3://myimageclassificationbucket/valid/129.Tibetan_mastiff/Tibetan_mastiff_08174.jpg\n",
      "upload: valid/129.Tibetan_mastiff/Tibetan_mastiff_08170.jpg to s3://myimageclassificationbucket/valid/129.Tibetan_mastiff/Tibetan_mastiff_08170.jpg\n",
      "upload: valid/129.Tibetan_mastiff/Tibetan_mastiff_08147.jpg to s3://myimageclassificationbucket/valid/129.Tibetan_mastiff/Tibetan_mastiff_08147.jpg\n",
      "upload: valid/129.Tibetan_mastiff/Tibetan_mastiff_08185.jpg to s3://myimageclassificationbucket/valid/129.Tibetan_mastiff/Tibetan_mastiff_08185.jpg\n",
      "upload: valid/130.Welsh_springer_spaniel/Welsh_springer_spaniel_08235.jpg to s3://myimageclassificationbucket/valid/130.Welsh_springer_spaniel/Welsh_springer_spaniel_08235.jpg\n",
      "upload: valid/131.Wirehaired_pointing_griffon/Wirehaired_pointing_griffon_08263.jpg to s3://myimageclassificationbucket/valid/131.Wirehaired_pointing_griffon/Wirehaired_pointing_griffon_08263.jpg\n",
      "upload: valid/132.Xoloitzcuintli/Xoloitzcuintli_08301.jpg to s3://myimageclassificationbucket/valid/132.Xoloitzcuintli/Xoloitzcuintli_08301.jpg\n",
      "upload: valid/130.Welsh_springer_spaniel/Welsh_springer_spaniel_08240.jpg to s3://myimageclassificationbucket/valid/130.Welsh_springer_spaniel/Welsh_springer_spaniel_08240.jpg\n",
      "upload: valid/131.Wirehaired_pointing_griffon/Wirehaired_pointing_griffon_08266.jpg to s3://myimageclassificationbucket/valid/131.Wirehaired_pointing_griffon/Wirehaired_pointing_griffon_08266.jpg\n",
      "upload: valid/132.Xoloitzcuintli/Xoloitzcuintli_08304.jpg to s3://myimageclassificationbucket/valid/132.Xoloitzcuintli/Xoloitzcuintli_08304.jpg\n",
      "upload: valid/132.Xoloitzcuintli/Xoloitzcuintli_08298.jpg to s3://myimageclassificationbucket/valid/132.Xoloitzcuintli/Xoloitzcuintli_08298.jpg\n",
      "upload: valid/132.Xoloitzcuintli/Xoloitzcuintli_08299.jpg to s3://myimageclassificationbucket/valid/132.Xoloitzcuintli/Xoloitzcuintli_08299.jpg\n",
      "upload: valid/131.Wirehaired_pointing_griffon/Wirehaired_pointing_griffon_08279.jpg to s3://myimageclassificationbucket/valid/131.Wirehaired_pointing_griffon/Wirehaired_pointing_griffon_08279.jpg\n",
      "upload: valid/133.Yorkshire_terrier/Yorkshire_terrier_08336.jpg to s3://myimageclassificationbucket/valid/133.Yorkshire_terrier/Yorkshire_terrier_08336.jpg\n",
      "upload: valid/133.Yorkshire_terrier/Yorkshire_terrier_08333.jpg to s3://myimageclassificationbucket/valid/133.Yorkshire_terrier/Yorkshire_terrier_08333.jpg\n",
      "upload: valid/133.Yorkshire_terrier/Yorkshire_terrier_08348.jpg to s3://myimageclassificationbucket/valid/133.Yorkshire_terrier/Yorkshire_terrier_08348.jpg\n",
      "upload: valid/131.Wirehaired_pointing_griffon/Wirehaired_pointing_griffon_08251.jpg to s3://myimageclassificationbucket/valid/131.Wirehaired_pointing_griffon/Wirehaired_pointing_griffon_08251.jpg\n",
      "upload: valid/133.Yorkshire_terrier/Yorkshire_terrier_08334.jpg to s3://myimageclassificationbucket/valid/133.Yorkshire_terrier/Yorkshire_terrier_08334.jpg\n"
     ]
    }
   ],
   "source": [
    "# Command to download and unzip data\n",
    "!wget https://s3-us-west-1.amazonaws.com/udacity-aind/dog-project/dogImages.zip;\n",
    "!unzip dogImages.zip;\n",
    "\n",
    "# Loading Data to s3\n",
    "os.chdir(\"dogImages\")\n",
    "os.environ[\"DEFAULT_S3_BUCKET\"] = bucket\n",
    "!aws s3 sync ./train s3://${DEFAULT_S3_BUCKET}/train/\n",
    "!aws s3 sync ./test s3://${DEFAULT_S3_BUCKET}/test/\n",
    "!aws s3 sync ./valid s3://${DEFAULT_S3_BUCKET}/valid/"
   ]
  },
  {
   "cell_type": "code",
   "execution_count": 10,
   "metadata": {
    "tags": []
   },
   "outputs": [],
   "source": [
    "hyperparameters = {\"batch-size\": \"32\", \"epochs\": \"2\", \"lr\": \"0.001\"}"
   ]
  },
  {
   "cell_type": "code",
   "execution_count": 25,
   "metadata": {
    "tags": []
   },
   "outputs": [],
   "source": [
    "estimator = PyTorch(\n",
    "    entry_point=\"train_model.py\",\n",
    "    base_job_name=\"sagemaker-script-mode\",\n",
    "    role=get_execution_role(),\n",
    "    instance_count=1,\n",
    "    instance_type=\"ml.m5.large\",\n",
    "    hyperparameters=hyperparameters,\n",
    "    framework_version=\"1.8\",\n",
    "    py_version=\"py36\",\n",
    ")"
   ]
  },
  {
   "cell_type": "code",
   "execution_count": 26,
   "metadata": {
    "tags": []
   },
   "outputs": [
    {
     "name": "stdout",
     "output_type": "stream",
     "text": [
      "2023-01-24 18:27:58 Starting - Starting the training job...\n",
      "2023-01-24 18:28:26 Starting - Preparing the instances for trainingProfilerReport-1674584878: InProgress\n",
      "......\n",
      "2023-01-24 18:29:26 Downloading - Downloading input data...\n",
      "2023-01-24 18:29:46 Training - Downloading the training image......\n",
      "2023-01-24 18:30:58 Uploading - Uploading generated training model\n",
      "2023-01-24 18:30:58 Failed - Training job failed\n",
      "\u001b[34mbash: cannot set terminal process group (-1): Inappropriate ioctl for device\u001b[0m\n",
      "\u001b[34mbash: no job control in this shell\u001b[0m\n",
      "\u001b[34m2023-01-24 18:30:40,826 sagemaker-training-toolkit INFO     Imported framework sagemaker_pytorch_container.training\u001b[0m\n",
      "\u001b[34m2023-01-24 18:30:40,829 sagemaker-training-toolkit INFO     No GPUs detected (normal if no gpus installed)\u001b[0m\n",
      "\u001b[34m2023-01-24 18:30:40,838 sagemaker_pytorch_container.training INFO     Block until all host DNS lookups succeed.\u001b[0m\n",
      "\u001b[34m2023-01-24 18:30:40,840 sagemaker_pytorch_container.training INFO     Invoking user training script.\u001b[0m\n",
      "\u001b[34m2023-01-24 18:30:41,011 sagemaker-training-toolkit INFO     No GPUs detected (normal if no gpus installed)\u001b[0m\n",
      "\u001b[34m2023-01-24 18:30:41,024 sagemaker-training-toolkit INFO     No GPUs detected (normal if no gpus installed)\u001b[0m\n",
      "\u001b[34m2023-01-24 18:30:41,035 sagemaker-training-toolkit INFO     No GPUs detected (normal if no gpus installed)\u001b[0m\n",
      "\u001b[34m2023-01-24 18:30:41,043 sagemaker-training-toolkit INFO     Invoking user script\u001b[0m\n",
      "\u001b[34mTraining Env:\u001b[0m\n",
      "\u001b[34m{\n",
      "    \"additional_framework_parameters\": {},\n",
      "    \"channel_input_dirs\": {},\n",
      "    \"current_host\": \"algo-1\",\n",
      "    \"framework_module\": \"sagemaker_pytorch_container.training:main\",\n",
      "    \"hosts\": [\n",
      "        \"algo-1\"\n",
      "    ],\n",
      "    \"hyperparameters\": {\n",
      "        \"batch-size\": \"32\",\n",
      "        \"epochs\": \"2\",\n",
      "        \"lr\": \"0.001\"\n",
      "    },\n",
      "    \"input_config_dir\": \"/opt/ml/input/config\",\n",
      "    \"input_data_config\": {},\n",
      "    \"input_dir\": \"/opt/ml/input\",\n",
      "    \"is_master\": true,\n",
      "    \"job_name\": \"sagemaker-script-mode-2023-01-24-18-27-57-997\",\n",
      "    \"log_level\": 20,\n",
      "    \"master_hostname\": \"algo-1\",\n",
      "    \"model_dir\": \"/opt/ml/model\",\n",
      "    \"module_dir\": \"s3://sagemaker-us-east-1-533883467299/sagemaker-script-mode-2023-01-24-18-27-57-997/source/sourcedir.tar.gz\",\n",
      "    \"module_name\": \"train_model\",\n",
      "    \"network_interface_name\": \"eth0\",\n",
      "    \"num_cpus\": 2,\n",
      "    \"num_gpus\": 0,\n",
      "    \"output_data_dir\": \"/opt/ml/output/data\",\n",
      "    \"output_dir\": \"/opt/ml/output\",\n",
      "    \"output_intermediate_dir\": \"/opt/ml/output/intermediate\",\n",
      "    \"resource_config\": {\n",
      "        \"current_host\": \"algo-1\",\n",
      "        \"current_instance_type\": \"ml.m5.large\",\n",
      "        \"current_group_name\": \"homogeneousCluster\",\n",
      "        \"hosts\": [\n",
      "            \"algo-1\"\n",
      "        ],\n",
      "        \"instance_groups\": [\n",
      "            {\n",
      "                \"instance_group_name\": \"homogeneousCluster\",\n",
      "                \"instance_type\": \"ml.m5.large\",\n",
      "                \"hosts\": [\n",
      "                    \"algo-1\"\n",
      "                ]\n",
      "            }\n",
      "        ],\n",
      "        \"network_interface_name\": \"eth0\"\n",
      "    },\n",
      "    \"user_entry_point\": \"train_model.py\"\u001b[0m\n",
      "\u001b[34m}\u001b[0m\n",
      "\u001b[34mEnvironment variables:\u001b[0m\n",
      "\u001b[34mSM_HOSTS=[\"algo-1\"]\u001b[0m\n",
      "\u001b[34mSM_NETWORK_INTERFACE_NAME=eth0\u001b[0m\n",
      "\u001b[34mSM_HPS={\"batch-size\":\"32\",\"epochs\":\"2\",\"lr\":\"0.001\"}\u001b[0m\n",
      "\u001b[34mSM_USER_ENTRY_POINT=train_model.py\u001b[0m\n",
      "\u001b[34mSM_FRAMEWORK_PARAMS={}\u001b[0m\n",
      "\u001b[34mSM_RESOURCE_CONFIG={\"current_group_name\":\"homogeneousCluster\",\"current_host\":\"algo-1\",\"current_instance_type\":\"ml.m5.large\",\"hosts\":[\"algo-1\"],\"instance_groups\":[{\"hosts\":[\"algo-1\"],\"instance_group_name\":\"homogeneousCluster\",\"instance_type\":\"ml.m5.large\"}],\"network_interface_name\":\"eth0\"}\u001b[0m\n",
      "\u001b[34mSM_INPUT_DATA_CONFIG={}\u001b[0m\n",
      "\u001b[34mSM_OUTPUT_DATA_DIR=/opt/ml/output/data\u001b[0m\n",
      "\u001b[34mSM_CHANNELS=[]\u001b[0m\n",
      "\u001b[34mSM_CURRENT_HOST=algo-1\u001b[0m\n",
      "\u001b[34mSM_MODULE_NAME=train_model\u001b[0m\n",
      "\u001b[34mSM_LOG_LEVEL=20\u001b[0m\n",
      "\u001b[34mSM_FRAMEWORK_MODULE=sagemaker_pytorch_container.training:main\u001b[0m\n",
      "\u001b[34mSM_INPUT_DIR=/opt/ml/input\u001b[0m\n",
      "\u001b[34mSM_INPUT_CONFIG_DIR=/opt/ml/input/config\u001b[0m\n",
      "\u001b[34mSM_OUTPUT_DIR=/opt/ml/output\u001b[0m\n",
      "\u001b[34mSM_NUM_CPUS=2\u001b[0m\n",
      "\u001b[34mSM_NUM_GPUS=0\u001b[0m\n",
      "\u001b[34mSM_MODEL_DIR=/opt/ml/model\u001b[0m\n",
      "\u001b[34mSM_MODULE_DIR=s3://sagemaker-us-east-1-533883467299/sagemaker-script-mode-2023-01-24-18-27-57-997/source/sourcedir.tar.gz\u001b[0m\n",
      "\u001b[34mSM_TRAINING_ENV={\"additional_framework_parameters\":{},\"channel_input_dirs\":{},\"current_host\":\"algo-1\",\"framework_module\":\"sagemaker_pytorch_container.training:main\",\"hosts\":[\"algo-1\"],\"hyperparameters\":{\"batch-size\":\"32\",\"epochs\":\"2\",\"lr\":\"0.001\"},\"input_config_dir\":\"/opt/ml/input/config\",\"input_data_config\":{},\"input_dir\":\"/opt/ml/input\",\"is_master\":true,\"job_name\":\"sagemaker-script-mode-2023-01-24-18-27-57-997\",\"log_level\":20,\"master_hostname\":\"algo-1\",\"model_dir\":\"/opt/ml/model\",\"module_dir\":\"s3://sagemaker-us-east-1-533883467299/sagemaker-script-mode-2023-01-24-18-27-57-997/source/sourcedir.tar.gz\",\"module_name\":\"train_model\",\"network_interface_name\":\"eth0\",\"num_cpus\":2,\"num_gpus\":0,\"output_data_dir\":\"/opt/ml/output/data\",\"output_dir\":\"/opt/ml/output\",\"output_intermediate_dir\":\"/opt/ml/output/intermediate\",\"resource_config\":{\"current_group_name\":\"homogeneousCluster\",\"current_host\":\"algo-1\",\"current_instance_type\":\"ml.m5.large\",\"hosts\":[\"algo-1\"],\"instance_groups\":[{\"hosts\":[\"algo-1\"],\"instance_group_name\":\"homogeneousCluster\",\"instance_type\":\"ml.m5.large\"}],\"network_interface_name\":\"eth0\"},\"user_entry_point\":\"train_model.py\"}\u001b[0m\n",
      "\u001b[34mSM_USER_ARGS=[\"--batch-size\",\"32\",\"--epochs\",\"2\",\"--lr\",\"0.001\"]\u001b[0m\n",
      "\u001b[34mSM_OUTPUT_INTERMEDIATE_DIR=/opt/ml/output/intermediate\u001b[0m\n",
      "\u001b[34mSM_HP_BATCH-SIZE=32\u001b[0m\n",
      "\u001b[34mSM_HP_EPOCHS=2\u001b[0m\n",
      "\u001b[34mSM_HP_LR=0.001\u001b[0m\n",
      "\u001b[34mPYTHONPATH=/opt/ml/code:/opt/conda/bin:/opt/conda/lib/python36.zip:/opt/conda/lib/python3.6:/opt/conda/lib/python3.6/lib-dynload:/opt/conda/lib/python3.6/site-packages\u001b[0m\n",
      "\u001b[34mInvoking script with the following command:\u001b[0m\n",
      "\u001b[34m/opt/conda/bin/python3.6 train_model.py --batch-size 32 --epochs 2 --lr 0.001\u001b[0m\n",
      "\u001b[34m[2023-01-24 18:30:41.926 algo-1:27 INFO utils.py:27] RULE_JOB_STOP_SIGNAL_FILENAME: None\u001b[0m\n",
      "\u001b[34m[2023-01-24 18:30:42.169 algo-1:27 INFO profiler_config_parser.py:102] User has disabled profiler.\u001b[0m\n",
      "\u001b[34mbatch_size:32\u001b[0m\n",
      "\u001b[34mepochs:2\u001b[0m\n",
      "\u001b[34mlr:0.001\u001b[0m\n",
      "\u001b[34m[2023-01-24 18:30:42.743 algo-1:27 INFO json_config.py:91] Creating hook from json_config at /opt/ml/input/config/debughookconfig.json.\u001b[0m\n",
      "\u001b[34m[2023-01-24 18:30:42.743 algo-1:27 INFO hook.py:201] tensorboard_dir has not been set for the hook. SMDebug will not be exporting tensorboard summaries.\u001b[0m\n",
      "\u001b[34m[2023-01-24 18:30:42.744 algo-1:27 INFO hook.py:255] Saving to /opt/ml/output/tensors\u001b[0m\n",
      "\u001b[34m[2023-01-24 18:30:42.744 algo-1:27 INFO state_store.py:77] The checkpoint config file /opt/ml/input/config/checkpointconfig.json does not exist.\u001b[0m\n",
      "\u001b[34m[2023-01-24 18:30:42.745 algo-1:27 INFO hook.py:591] name:fc.weight count_params:68096\u001b[0m\n",
      "\u001b[34m[2023-01-24 18:30:42.745 algo-1:27 INFO hook.py:591] name:fc.bias count_params:133\u001b[0m\n",
      "\u001b[34m[2023-01-24 18:30:42.745 algo-1:27 INFO hook.py:593] Total Trainable Params: 68229\u001b[0m\n",
      "\u001b[34mDownloading: \"https://download.pytorch.org/models/resnet18-5c106cde.pth\" to /root/.cache/torch/hub/checkpoints/resnet18-5c106cde.pth\u001b[0m\n",
      "\u001b[34m#015  0%|          | 0.00/44.7M [00:00<?, ?B/s]#015 51%|█████     | 22.6M/44.7M [00:00<00:00, 236MB/s]#015100%|██████████| 44.7M/44.7M [00:00<00:00, 236MB/s]\u001b[0m\n",
      "\u001b[34mTraceback (most recent call last):\n",
      "  File \"train_model.py\", line 242, in <module>\n",
      "    main(args)\n",
      "  File \"train_model.py\", line 176, in main\n",
      "    with tarfile.open('train-data.tar', 'r') as tar:\n",
      "  File \"/opt/conda/lib/python3.6/tarfile.py\", line 1578, in open\n",
      "    raise ReadError(\"file could not be opened successfully\")\u001b[0m\n",
      "\u001b[34mtarfile.ReadError: file could not be opened successfully\u001b[0m\n",
      "\u001b[34m2023-01-24 18:30:42,983 sagemaker-training-toolkit ERROR    ExecuteUserScriptError:\u001b[0m\n",
      "\u001b[34mCommand \"/opt/conda/bin/python3.6 train_model.py --batch-size 32 --epochs 2 --lr 0.001\"\u001b[0m\n",
      "\u001b[34mDownloading: \"https://download.pytorch.org/models/resnet18-5c106cde.pth\" to /root/.cache/torch/hub/checkpoints/resnet18-5c106cde.pth\u001b[0m\n",
      "\u001b[34m#015  0%|          | 0.00/44.7M [00:00<?, ?B/s]#015 51%|âââââ     | 22.6M/44.7M [00:00<00:00, 236MB/s]#015100%|ââââââââââ| 44.7M/44.7M [00:00<00:00, 236MB/s]\u001b[0m\n",
      "\u001b[34mTraceback (most recent call last):\n",
      "  File \"train_model.py\", line 242, in <module>\n",
      "    main(args)\n",
      "  File \"train_model.py\", line 176, in main\n",
      "    with tarfile.open('train-data.tar', 'r') as tar:\n",
      "  File \"/opt/conda/lib/python3.6/tarfile.py\", line 1578, in open\n",
      "    raise ReadError(\"file could not be opened successfully\")\u001b[0m\n",
      "\u001b[34mtarfile.ReadError: file could not be opened successfully\u001b[0m\n"
     ]
    },
    {
     "ename": "UnexpectedStatusException",
     "evalue": "Error for Training job sagemaker-script-mode-2023-01-24-18-27-57-997: Failed. Reason: AlgorithmError: ExecuteUserScriptError:\nCommand \"/opt/conda/bin/python3.6 train_model.py --batch-size 32 --epochs 2 --lr 0.001\"\nDownloading: \"https://download.pytorch.org/models/resnet18-5c106cde.pth\" to /root/.cache/torch/hub/checkpoints/resnet18-5c106cde.pth\n\r  0%|          | 0.00/44.7M [00:00<?, ?B/s]\r 51%|âââââ     | 22.6M/44.7M [00:00<00:00, 236MB/s]\r100%|ââââââââââ| 44.7M/44.7M [00:00<00:00, 236MB/s]\nTraceback (most recent call last):\n  File \"train_model.py\", line 242, in <module>\n    main(args)\n  File \"train_model.py\", line 176, in main\n    with tarfile.open('train-data.tar', 'r') as tar:\n  File \"/opt/conda/lib/python3.6/tarfile.py\", line 1578, in open\n    raise ReadError(\"file could not be opened successfully\")\ntarfile.ReadError: file could not be opened successfully, exit code: 1",
     "output_type": "error",
     "traceback": [
      "\u001b[0;31m---------------------------------------------------------------------------\u001b[0m",
      "\u001b[0;31mUnexpectedStatusException\u001b[0m                 Traceback (most recent call last)",
      "\u001b[0;32m<ipython-input-26-0d78e911798a>\u001b[0m in \u001b[0;36m<module>\u001b[0;34m\u001b[0m\n\u001b[0;32m----> 1\u001b[0;31m \u001b[0mestimator\u001b[0m\u001b[0;34m.\u001b[0m\u001b[0mfit\u001b[0m\u001b[0;34m(\u001b[0m\u001b[0mwait\u001b[0m\u001b[0;34m=\u001b[0m\u001b[0;32mTrue\u001b[0m\u001b[0;34m)\u001b[0m\u001b[0;34m\u001b[0m\u001b[0;34m\u001b[0m\u001b[0m\n\u001b[0m",
      "\u001b[0;32m/opt/conda/lib/python3.7/site-packages/sagemaker/workflow/pipeline_context.py\u001b[0m in \u001b[0;36mwrapper\u001b[0;34m(*args, **kwargs)\u001b[0m\n\u001b[1;32m    270\u001b[0m             \u001b[0;32mreturn\u001b[0m \u001b[0m_StepArguments\u001b[0m\u001b[0;34m(\u001b[0m\u001b[0mretrieve_caller_name\u001b[0m\u001b[0;34m(\u001b[0m\u001b[0mself_instance\u001b[0m\u001b[0;34m)\u001b[0m\u001b[0;34m,\u001b[0m \u001b[0mrun_func\u001b[0m\u001b[0;34m,\u001b[0m \u001b[0;34m*\u001b[0m\u001b[0margs\u001b[0m\u001b[0;34m,\u001b[0m \u001b[0;34m**\u001b[0m\u001b[0mkwargs\u001b[0m\u001b[0;34m)\u001b[0m\u001b[0;34m\u001b[0m\u001b[0;34m\u001b[0m\u001b[0m\n\u001b[1;32m    271\u001b[0m \u001b[0;34m\u001b[0m\u001b[0m\n\u001b[0;32m--> 272\u001b[0;31m         \u001b[0;32mreturn\u001b[0m \u001b[0mrun_func\u001b[0m\u001b[0;34m(\u001b[0m\u001b[0;34m*\u001b[0m\u001b[0margs\u001b[0m\u001b[0;34m,\u001b[0m \u001b[0;34m**\u001b[0m\u001b[0mkwargs\u001b[0m\u001b[0;34m)\u001b[0m\u001b[0;34m\u001b[0m\u001b[0;34m\u001b[0m\u001b[0m\n\u001b[0m\u001b[1;32m    273\u001b[0m \u001b[0;34m\u001b[0m\u001b[0m\n\u001b[1;32m    274\u001b[0m     \u001b[0;32mreturn\u001b[0m \u001b[0mwrapper\u001b[0m\u001b[0;34m\u001b[0m\u001b[0;34m\u001b[0m\u001b[0m\n",
      "\u001b[0;32m/opt/conda/lib/python3.7/site-packages/sagemaker/estimator.py\u001b[0m in \u001b[0;36mfit\u001b[0;34m(self, inputs, wait, logs, job_name, experiment_config)\u001b[0m\n\u001b[1;32m   1126\u001b[0m         \u001b[0mself\u001b[0m\u001b[0;34m.\u001b[0m\u001b[0mjobs\u001b[0m\u001b[0;34m.\u001b[0m\u001b[0mappend\u001b[0m\u001b[0;34m(\u001b[0m\u001b[0mself\u001b[0m\u001b[0;34m.\u001b[0m\u001b[0mlatest_training_job\u001b[0m\u001b[0;34m)\u001b[0m\u001b[0;34m\u001b[0m\u001b[0;34m\u001b[0m\u001b[0m\n\u001b[1;32m   1127\u001b[0m         \u001b[0;32mif\u001b[0m \u001b[0mwait\u001b[0m\u001b[0;34m:\u001b[0m\u001b[0;34m\u001b[0m\u001b[0;34m\u001b[0m\u001b[0m\n\u001b[0;32m-> 1128\u001b[0;31m             \u001b[0mself\u001b[0m\u001b[0;34m.\u001b[0m\u001b[0mlatest_training_job\u001b[0m\u001b[0;34m.\u001b[0m\u001b[0mwait\u001b[0m\u001b[0;34m(\u001b[0m\u001b[0mlogs\u001b[0m\u001b[0;34m=\u001b[0m\u001b[0mlogs\u001b[0m\u001b[0;34m)\u001b[0m\u001b[0;34m\u001b[0m\u001b[0;34m\u001b[0m\u001b[0m\n\u001b[0m\u001b[1;32m   1129\u001b[0m \u001b[0;34m\u001b[0m\u001b[0m\n\u001b[1;32m   1130\u001b[0m     \u001b[0;32mdef\u001b[0m \u001b[0m_compilation_job_name\u001b[0m\u001b[0;34m(\u001b[0m\u001b[0mself\u001b[0m\u001b[0;34m)\u001b[0m\u001b[0;34m:\u001b[0m\u001b[0;34m\u001b[0m\u001b[0;34m\u001b[0m\u001b[0m\n",
      "\u001b[0;32m/opt/conda/lib/python3.7/site-packages/sagemaker/estimator.py\u001b[0m in \u001b[0;36mwait\u001b[0;34m(self, logs)\u001b[0m\n\u001b[1;32m   2240\u001b[0m         \u001b[0;31m# If logs are requested, call logs_for_jobs.\u001b[0m\u001b[0;34m\u001b[0m\u001b[0;34m\u001b[0m\u001b[0;34m\u001b[0m\u001b[0m\n\u001b[1;32m   2241\u001b[0m         \u001b[0;32mif\u001b[0m \u001b[0mlogs\u001b[0m \u001b[0;34m!=\u001b[0m \u001b[0;34m\"None\"\u001b[0m\u001b[0;34m:\u001b[0m\u001b[0;34m\u001b[0m\u001b[0;34m\u001b[0m\u001b[0m\n\u001b[0;32m-> 2242\u001b[0;31m             \u001b[0mself\u001b[0m\u001b[0;34m.\u001b[0m\u001b[0msagemaker_session\u001b[0m\u001b[0;34m.\u001b[0m\u001b[0mlogs_for_job\u001b[0m\u001b[0;34m(\u001b[0m\u001b[0mself\u001b[0m\u001b[0;34m.\u001b[0m\u001b[0mjob_name\u001b[0m\u001b[0;34m,\u001b[0m \u001b[0mwait\u001b[0m\u001b[0;34m=\u001b[0m\u001b[0;32mTrue\u001b[0m\u001b[0;34m,\u001b[0m \u001b[0mlog_type\u001b[0m\u001b[0;34m=\u001b[0m\u001b[0mlogs\u001b[0m\u001b[0;34m)\u001b[0m\u001b[0;34m\u001b[0m\u001b[0;34m\u001b[0m\u001b[0m\n\u001b[0m\u001b[1;32m   2243\u001b[0m         \u001b[0;32melse\u001b[0m\u001b[0;34m:\u001b[0m\u001b[0;34m\u001b[0m\u001b[0;34m\u001b[0m\u001b[0m\n\u001b[1;32m   2244\u001b[0m             \u001b[0mself\u001b[0m\u001b[0;34m.\u001b[0m\u001b[0msagemaker_session\u001b[0m\u001b[0;34m.\u001b[0m\u001b[0mwait_for_job\u001b[0m\u001b[0;34m(\u001b[0m\u001b[0mself\u001b[0m\u001b[0;34m.\u001b[0m\u001b[0mjob_name\u001b[0m\u001b[0;34m)\u001b[0m\u001b[0;34m\u001b[0m\u001b[0;34m\u001b[0m\u001b[0m\n",
      "\u001b[0;32m/opt/conda/lib/python3.7/site-packages/sagemaker/session.py\u001b[0m in \u001b[0;36mlogs_for_job\u001b[0;34m(self, job_name, wait, poll, log_type)\u001b[0m\n\u001b[1;32m   4070\u001b[0m \u001b[0;34m\u001b[0m\u001b[0m\n\u001b[1;32m   4071\u001b[0m         \u001b[0;32mif\u001b[0m \u001b[0mwait\u001b[0m\u001b[0;34m:\u001b[0m\u001b[0;34m\u001b[0m\u001b[0;34m\u001b[0m\u001b[0m\n\u001b[0;32m-> 4072\u001b[0;31m             \u001b[0mself\u001b[0m\u001b[0;34m.\u001b[0m\u001b[0m_check_job_status\u001b[0m\u001b[0;34m(\u001b[0m\u001b[0mjob_name\u001b[0m\u001b[0;34m,\u001b[0m \u001b[0mdescription\u001b[0m\u001b[0;34m,\u001b[0m \u001b[0;34m\"TrainingJobStatus\"\u001b[0m\u001b[0;34m)\u001b[0m\u001b[0;34m\u001b[0m\u001b[0;34m\u001b[0m\u001b[0m\n\u001b[0m\u001b[1;32m   4073\u001b[0m             \u001b[0;32mif\u001b[0m \u001b[0mdot\u001b[0m\u001b[0;34m:\u001b[0m\u001b[0;34m\u001b[0m\u001b[0;34m\u001b[0m\u001b[0m\n\u001b[1;32m   4074\u001b[0m                 \u001b[0mprint\u001b[0m\u001b[0;34m(\u001b[0m\u001b[0;34m)\u001b[0m\u001b[0;34m\u001b[0m\u001b[0;34m\u001b[0m\u001b[0m\n",
      "\u001b[0;32m/opt/conda/lib/python3.7/site-packages/sagemaker/session.py\u001b[0m in \u001b[0;36m_check_job_status\u001b[0;34m(self, job, desc, status_key_name)\u001b[0m\n\u001b[1;32m   3604\u001b[0m                 \u001b[0mmessage\u001b[0m\u001b[0;34m=\u001b[0m\u001b[0mmessage\u001b[0m\u001b[0;34m,\u001b[0m\u001b[0;34m\u001b[0m\u001b[0;34m\u001b[0m\u001b[0m\n\u001b[1;32m   3605\u001b[0m                 \u001b[0mallowed_statuses\u001b[0m\u001b[0;34m=\u001b[0m\u001b[0;34m[\u001b[0m\u001b[0;34m\"Completed\"\u001b[0m\u001b[0;34m,\u001b[0m \u001b[0;34m\"Stopped\"\u001b[0m\u001b[0;34m]\u001b[0m\u001b[0;34m,\u001b[0m\u001b[0;34m\u001b[0m\u001b[0;34m\u001b[0m\u001b[0m\n\u001b[0;32m-> 3606\u001b[0;31m                 \u001b[0mactual_status\u001b[0m\u001b[0;34m=\u001b[0m\u001b[0mstatus\u001b[0m\u001b[0;34m,\u001b[0m\u001b[0;34m\u001b[0m\u001b[0;34m\u001b[0m\u001b[0m\n\u001b[0m\u001b[1;32m   3607\u001b[0m             )\n\u001b[1;32m   3608\u001b[0m \u001b[0;34m\u001b[0m\u001b[0m\n",
      "\u001b[0;31mUnexpectedStatusException\u001b[0m: Error for Training job sagemaker-script-mode-2023-01-24-18-27-57-997: Failed. Reason: AlgorithmError: ExecuteUserScriptError:\nCommand \"/opt/conda/bin/python3.6 train_model.py --batch-size 32 --epochs 2 --lr 0.001\"\nDownloading: \"https://download.pytorch.org/models/resnet18-5c106cde.pth\" to /root/.cache/torch/hub/checkpoints/resnet18-5c106cde.pth\n\r  0%|          | 0.00/44.7M [00:00<?, ?B/s]\r 51%|âââââ     | 22.6M/44.7M [00:00<00:00, 236MB/s]\r100%|ââââââââââ| 44.7M/44.7M [00:00<00:00, 236MB/s]\nTraceback (most recent call last):\n  File \"train_model.py\", line 242, in <module>\n    main(args)\n  File \"train_model.py\", line 176, in main\n    with tarfile.open('train-data.tar', 'r') as tar:\n  File \"/opt/conda/lib/python3.6/tarfile.py\", line 1578, in open\n    raise ReadError(\"file could not be opened successfully\")\ntarfile.ReadError: file could not be opened successfully, exit code: 1"
     ]
    }
   ],
   "source": [
    "estimator.fit(wait=True)"
   ]
  },
  {
   "cell_type": "markdown",
   "metadata": {},
   "source": [
    "## Hyperparameter Tuning\n",
    "**TODO:** This is the part where you will finetune a pretrained model with hyperparameter tuning. Remember that you have to tune a minimum of two hyperparameters. However you are encouraged to tune more. You are also encouraged to explain why you chose to tune those particular hyperparameters and the ranges.\n",
    "\n",
    "**Note:** You will need to use the `hpo.py` script to perform hyperparameter tuning."
   ]
  },
  {
   "cell_type": "code",
   "execution_count": null,
   "metadata": {},
   "outputs": [],
   "source": [
    "#TODO: Declare your HP ranges, metrics etc."
   ]
  },
  {
   "cell_type": "code",
   "execution_count": null,
   "metadata": {},
   "outputs": [],
   "source": [
    "#TODO: Create estimators for your HPs\n",
    "\n",
    "estimator = # TODO: Your estimator here\n",
    "\n",
    "tuner = # TODO: Your HP tuner here"
   ]
  },
  {
   "cell_type": "code",
   "execution_count": null,
   "metadata": {},
   "outputs": [],
   "source": [
    "# TODO: Fit your HP Tuner\n",
    "tuner.fit() # TODO: Remember to include your data channels"
   ]
  },
  {
   "cell_type": "code",
   "execution_count": null,
   "metadata": {},
   "outputs": [],
   "source": [
    "# TODO: Get the best estimators and the best HPs\n",
    "\n",
    "best_estimator = #TODO\n",
    "\n",
    "#Get the hyperparameters of the best trained model\n",
    "best_estimator.hyperparameters()"
   ]
  },
  {
   "cell_type": "markdown",
   "metadata": {},
   "source": [
    "## Model Profiling and Debugging\n",
    "TODO: Using the best hyperparameters, create and finetune a new model\n",
    "\n",
    "**Note:** You will need to use the `train_model.py` script to perform model profiling and debugging."
   ]
  },
  {
   "cell_type": "code",
   "execution_count": null,
   "metadata": {},
   "outputs": [],
   "source": [
    "# TODO: Set up debugging and profiling rules and hooks"
   ]
  },
  {
   "cell_type": "code",
   "execution_count": null,
   "metadata": {},
   "outputs": [],
   "source": [
    "# TODO: Create and fit an estimator\n",
    "\n",
    "estimator = # TODO: Your estimator here"
   ]
  },
  {
   "cell_type": "code",
   "execution_count": null,
   "metadata": {},
   "outputs": [],
   "source": [
    "# TODO: Plot a debugging output."
   ]
  },
  {
   "cell_type": "markdown",
   "metadata": {},
   "source": [
    "**TODO**: Is there some anomalous behaviour in your debugging output? If so, what is the error and how will you fix it?  \n",
    "**TODO**: If not, suppose there was an error. What would that error look like and how would you have fixed it?"
   ]
  },
  {
   "cell_type": "code",
   "execution_count": null,
   "metadata": {},
   "outputs": [],
   "source": [
    "# TODO: Display the profiler output"
   ]
  },
  {
   "cell_type": "markdown",
   "metadata": {},
   "source": [
    "## Model Deploying"
   ]
  },
  {
   "cell_type": "code",
   "execution_count": null,
   "metadata": {},
   "outputs": [],
   "source": [
    "# TODO: Deploy your model to an endpoint\n",
    "\n",
    "predictor=estimator.deploy() # TODO: Add your deployment configuration like instance type and number of instances"
   ]
  },
  {
   "cell_type": "code",
   "execution_count": null,
   "metadata": {},
   "outputs": [],
   "source": [
    "# TODO: Run an prediction on the endpoint\n",
    "\n",
    "image = # TODO: Your code to load and preprocess image to send to endpoint for prediction\n",
    "response = predictor.predict(image)"
   ]
  },
  {
   "cell_type": "code",
   "execution_count": null,
   "metadata": {},
   "outputs": [],
   "source": [
    "# TODO: Remember to shutdown/delete your endpoint once your work is done\n",
    "predictor.delete_endpoint()"
   ]
  },
  {
   "cell_type": "code",
   "execution_count": null,
   "metadata": {},
   "outputs": [],
   "source": []
  }
 ],
 "metadata": {
  "instance_type": "ml.t3.medium",
  "kernelspec": {
   "display_name": "Python 3 (Data Science)",
   "language": "python",
   "name": "python3__SAGEMAKER_INTERNAL__arn:aws:sagemaker:us-east-1:081325390199:image/datascience-1.0"
  },
  "language_info": {
   "codemirror_mode": {
    "name": "ipython",
    "version": 3
   },
   "file_extension": ".py",
   "mimetype": "text/x-python",
   "name": "python",
   "nbconvert_exporter": "python",
   "pygments_lexer": "ipython3",
   "version": "3.7.10"
  }
 },
 "nbformat": 4,
 "nbformat_minor": 4
}
